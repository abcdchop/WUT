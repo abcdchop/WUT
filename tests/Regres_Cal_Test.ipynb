{
 "cells": [
  {
   "cell_type": "code",
   "execution_count": 1,
   "metadata": {},
   "outputs": [],
   "source": [
    "import numpy as np\n",
    "import matplotlib.pyplot as pl\n",
    "import tensorflow as tf\n",
    "import matplotlib.pyplot as plt\n",
    "# import WUT as WUT\n"
   ]
  },
  {
   "cell_type": "code",
   "execution_count": 2,
   "metadata": {},
   "outputs": [],
   "source": [
    "import numpy as np\n",
    "import tensorflow as tf\n",
    "import types\n",
    "from tensorflow.python.keras.layers.ops import core as core_ops\n",
    "import mdn\n",
    "from tensorflow.compat.v1.keras import layers\n",
    "from tensorflow.python.keras import activations\n",
    "from tensorflow_probability import distributions as tfd\n",
    "from tensorflow.compat.v1.keras import backend as K\n",
    "from tensorflow.compat.v1.keras import activations, initializers\n",
    "import tensorflow_probability as tfp\n",
    "tfd = tfp.distributions\n",
    "import threading\n",
    "\n",
    "class ThreadWithResult(threading.Thread):\n",
    "    def __init__(self, group=None, target=None, name=None, args=(), kwargs={}, *, daemon=None):\n",
    "        def function():\n",
    "            self.result = target(*args, **kwargs)\n",
    "        super().__init__(group=group, target=function, name=name, daemon=daemon)\n",
    "\n",
    "\n",
    "class Dropout():\n",
    "\n",
    "\n",
    "    def __init__(self, Model, rate, dropout_layers = [tf.keras.layers.Dense]):\n",
    "\n",
    "\n",
    "        \"\"\"Dropout Initializer. Turns a neural network into an droput network.\n",
    "\n",
    "        Args:\n",
    "            Model: Input Keras Model.\n",
    "            rate: What rate to these neurons drop out\n",
    "            dropout_layers: Types of layers to apply dropout to. Defaults are safe, add to this at your own risk.\n",
    "\n",
    "        Returns:\n",
    "            Nothing lol\n",
    "\n",
    "        \"\"\"\n",
    "\n",
    "        self.model = Model()\n",
    "\n",
    "        def adddropout(denselayer):\n",
    "            def func(self, inputs, **kwargs):\n",
    "                x = core_ops.dense(inputs, self.kernel, self.bias, self.activation, dtype=self._compute_dtype_object)\n",
    "                return tf.nn.dropout(x, noise_shape=None, rate=rate)\n",
    "            return func\n",
    "\n",
    "        for layer in self.model.layers[:-1]:\n",
    "            if layer.__class__ in dropout_layers:\n",
    "                func = adddropout(layer)\n",
    "                layer.call = types.MethodType(func, layer)\n",
    "\n",
    "    def compile(self, *args, **kwargs):\n",
    "\n",
    "        \"\"\"compile. Literally use this as you'd use the normal compile.\n",
    "\n",
    "        Returns:\n",
    "            Nothing lol\n",
    "\n",
    "        \"\"\"\n",
    "\n",
    "        self.model.compile(*args, **kwargs)\n",
    "\n",
    "    def fit(self, *args, **kwargs):\n",
    "\n",
    "        \"\"\"fit. Literally use this as you'd use the normal keras fit.\n",
    "\n",
    "        Returns:\n",
    "            Nothing lol.\n",
    "\n",
    "        \"\"\"\n",
    "\n",
    "\n",
    "        self.model.fit(*args, **kwargs)\n",
    "\n",
    "    def evaluate(self, *args, trials = 3, **kwargs):\n",
    "\n",
    "\n",
    "        \"\"\"evaluate. Literally use this as you'd use the normal keras evaluate.\n",
    "        Args:\n",
    "            trials: how many times to run the MCDropout network to get empirical variance. I would recommend higher than 3.\n",
    "\n",
    "        Returns:\n",
    "            The model's score, evaluated on whatever inputs you just fed it.\n",
    "\n",
    "        \"\"\"\n",
    "\n",
    "\n",
    "        threads = []\n",
    "        results = []\n",
    "\n",
    "\n",
    "        for _ in range(trials):\n",
    "            threads.append(ThreadWithResult(target=self.model.evaluate, args=args, kwargs=kwargs))\n",
    "            threads[-1].start()\n",
    "\n",
    "        for thread in threads:\n",
    "            thread.join()\n",
    "            results.append(thread.result)\n",
    "\n",
    "        if type(results[0]) is tuple:\n",
    "            return list(zip(*results))\n",
    "        return results\n",
    "\n",
    "    def predict(self, *args, trials = 15, return_std = True, **kwargs):\n",
    "\n",
    "        \"\"\"predict. Literally use this as you'd use the normal keras predict.\n",
    "        Args:\n",
    "            trials: how many times to run the network\n",
    "            return_std: checks if you would even like the std.\n",
    "\n",
    "        Returns:\n",
    "            a mean and variance, for each input.\n",
    "\n",
    "        \"\"\"\n",
    "\n",
    "        threads = []\n",
    "        predictions = []\n",
    "\n",
    "        for _ in range(trials):\n",
    "            threads.append(ThreadWithResult(target=self.model.predict, args=args, kwargs=kwargs))\n",
    "            threads[-1].start()\n",
    "\n",
    "\n",
    "        for thread in threads:\n",
    "            thread.join()\n",
    "            predictions.append(thread.result)\n",
    "\n",
    "        predictions = tf.stack(predictions)\n",
    "        mean_preds = tf.reduce_mean(predictions, axis = 0)\n",
    "\n",
    "        if not return_std:\n",
    "            return mean_preds\n",
    "\n",
    "        std_preds = tf.math.reduce_std(predictions, axis = 0)\n",
    "        mean_preds = tf.expand_dims(mean_preds, 1)\n",
    "\n",
    "        std_preds = tf.expand_dims(std_preds, 1)\n",
    "\n",
    "\n",
    "        return tf.concat([mean_preds, std_preds], axis = 1)\n",
    "\n",
    "\n",
    "    def sample(self, *args, trials = 3, **kwargs):\n",
    "        \"\"\"evaluate. Literally use this as you'd use the normal evaluate.\n",
    "\n",
    "        Args:\n",
    "            return_std: Defaults to true, just checking if you actually want the std.\n",
    "\n",
    "        Returns:\n",
    "            Output of each network for each input (Number of ensembels x Number of test inputs x Number of outputs)\n",
    "\n",
    "        \"\"\"\n",
    "\n",
    "        threads = []\n",
    "        predictions = []\n",
    "\n",
    "        for _ in range(trials):\n",
    "            threads.append(ThreadWithResult(target=self.model.predict, args=args, kwargs=kwargs))\n",
    "            threads[-1].start()\n",
    "\n",
    "\n",
    "        for thread in threads:\n",
    "            thread.join()\n",
    "            predictions.append(thread.result)\n",
    "        predictions = tf.stack(predictions)\n",
    "\n",
    "        return predictions\n"
   ]
  },
  {
   "cell_type": "code",
   "execution_count": 3,
   "metadata": {},
   "outputs": [],
   "source": [
    "def plot1d_meanvar(X, Y, Xq, Yq, sigma=None, ylims=[-1.5, 1.5]):\n",
    "    pl.figure()\n",
    "    pl.scatter(X, Y, c = 'k', s = 1, label = 'data')\n",
    "    if Yq is not None:\n",
    "        pl.plot(Xq, Yq, c = 'b', label = 'predicted mean')\n",
    "    if sigma is not None:\n",
    "        pl.fill_between(Xq.squeeze(), tf.squeeze(Yq - 2*sigma), tf.squeeze(Yq + 2*sigma), alpha = 0.2, label = 'predicted SD')\n",
    "        pl.ylim(ylims)\n",
    "    pl.legend()\n",
    "    \n",
    "def plot1d_samples(X, Y, Xq, Ys, ylims=[-1.5, 1.5]):\n",
    "    pl.figure()\n",
    "    pl.scatter(X, Y, c = 'k', s = 1, label = 'data')\n",
    "    for i in range(Yreg1s.shape[0]):\n",
    "        pl.plot(Xq, Ys[i,:,:], c = 'b', alpha = 0.3, label = 'prediction {}'.format(i))\n",
    "    pl.ylim(ylims)\n",
    "    pl.legend()"
   ]
  },
  {
   "cell_type": "code",
   "execution_count": 4,
   "metadata": {},
   "outputs": [
    {
     "name": "stdout",
     "output_type": "stream",
     "text": [
      "X query/predict shapes: (10000, 1)\n",
      "X-Y train shapes: (10000, 1) (10000, 1)\n",
      "X-Y test shapes: (10000, 1) (10000, 1)\n"
     ]
    },
    {
     "data": {
      "image/png": "[encoded data removed]",
      "text/plain": [
       "<Figure size 432x288 with 1 Axes>"
      ]
     },
     "metadata": {
      "needs_background": "light"
     },
     "output_type": "display_data"
    }
   ],
   "source": [
    "# ## Noise Function\n",
    "\n",
    "# bimix_gauss = tfd.Mixture(\n",
    "# cat=tfd.Categorical(probs=[mix, 1.-mix]),\n",
    "# components=[\n",
    "#   tfd.Normal(loc=-5., scale=0.1),\n",
    "#   tfd.Normal(loc=+1., scale=0.5),\n",
    "# ])\n",
    "\n",
    "# Groundtruth function\n",
    "def groundtruth1(X, noise=0):\n",
    "    return np.sin(12*X) + noise*np.random.random((len(X),1)) - 1 + (2*np.random.randint(0,2, X.shape))\n",
    "\n",
    "# Query dataset for prediction\n",
    "Nq = 10000\n",
    "Xtest = np.linspace(-0.2, 1.2, Nq)[:,None]\n",
    "Ytest = groundtruth1(Xtest)\n",
    "print(\"X query/predict shapes:\", Xtest.shape)\n",
    "\n",
    "# Training dataset\n",
    "N = 10000\n",
    "Xtrain = np.random.random((N,1))\n",
    "Ytrain = groundtruth1(Xtrain, noise=.3)\n",
    "\n",
    "# Calibration dataset\n",
    "Xcal = np.random.random((N,1))\n",
    "Ycal = groundtruth1(Xcal, noise=.3)\n",
    "\n",
    "# Noisy Testing dataset\n",
    "Xntest = np.random.random((N,1))\n",
    "Yntest = groundtruth1(Xntest, noise=.3)\n",
    "\n",
    "\n",
    "print(\"X-Y train shapes:\", Xtrain.shape, Ytrain.shape)\n",
    "ylims = [-1.5,1.5] # This will be used for plotting\n",
    "plot1d_meanvar(Xtrain, Ytrain, None, None, None, ylims)\n",
    "\n",
    "\n",
    "# Test dataset for evaluation\n",
    "print(\"X-Y test shapes:\", Xtest.shape, Ytest.shape)"
   ]
  },
  {
   "cell_type": "code",
   "execution_count": 5,
   "metadata": {},
   "outputs": [],
   "source": [
    "class RegModel(tf.keras.Model):\n",
    "\n",
    "    def __init__(self):\n",
    "        super(RegModel, self).__init__()\n",
    "        self.dense1 = tf.keras.layers.Dense(8, activation = tf.nn.relu)\n",
    "        self.dense2 = tf.keras.layers.Dense(64, activation = tf.nn.relu)\n",
    "        self.dense3 = tf.keras.layers.Dense(64, activation = tf.nn.relu)\n",
    "        self.dense4 = tf.keras.layers.Dense(1)\n",
    "\n",
    "    def call(self, inputs, training = False):\n",
    "        x = self.dense1(inputs)\n",
    "        x = self.dense2(x)\n",
    "        x = self.dense3(x)\n",
    "        return self.dense4(x)"
   ]
  },
  {
   "cell_type": "code",
   "execution_count": 6,
   "metadata": {},
   "outputs": [
    {
     "name": "stdout",
     "output_type": "stream",
     "text": [
      "Epoch 1/10\n",
      "50/50 [==============================] - 1s 1ms/step - loss: 1.5546\n",
      "Epoch 2/10\n",
      "50/50 [==============================] - 0s 1ms/step - loss: 1.5372\n",
      "Epoch 3/10\n",
      "50/50 [==============================] - 0s 1ms/step - loss: 1.5399\n",
      "Epoch 4/10\n",
      "50/50 [==============================] - 0s 1ms/step - loss: 1.5032\n",
      "Epoch 5/10\n",
      "50/50 [==============================] - 0s 1ms/step - loss: 1.5196\n",
      "Epoch 6/10\n",
      "50/50 [==============================] - 0s 1ms/step - loss: 1.4807\n",
      "Epoch 7/10\n",
      "50/50 [==============================] - 0s 1ms/step - loss: 1.5165\n",
      "Epoch 8/10\n",
      "50/50 [==============================] - 0s 1ms/step - loss: 1.5026\n",
      "Epoch 9/10\n",
      "50/50 [==============================] - 0s 1ms/step - loss: 1.4943\n",
      "Epoch 10/10\n",
      "50/50 [==============================] - 0s 1ms/step - loss: 1.4659\n"
     ]
    }
   ],
   "source": [
    "# Train\n",
    "\n",
    "# Model\n",
    "rate = 0.2 # What rate to neurons drop out\n",
    "mcmc  = Dropout(RegModel, rate = 0.2, dropout_layers = [tf.keras.layers.Dense])\n",
    "\n",
    "# Train\n",
    "mcmc.compile(optimizer = tf.keras.optimizers.SGD(learning_rate=.004), loss = tf.keras.losses.MSE)\n",
    "mcmc.fit(Xtrain, Ytrain, epochs = 10, batch_size = 200)\n"
   ]
  },
  {
   "cell_type": "code",
   "execution_count": 7,
   "metadata": {},
   "outputs": [
    {
     "name": "stdout",
     "output_type": "stream",
     "text": [
      "(10000, 2, 1)\n",
      "tf.Tensor(0.014069909, shape=(), dtype=float32)\n",
      "(10000, 1)\n"
     ]
    },
    {
     "data": {
      "image/png": "[encoded data removed]",
      "text/plain": [
       "<Figure size 432x288 with 1 Axes>"
      ]
     },
     "metadata": {
      "needs_background": "light"
     },
     "output_type": "display_data"
    }
   ],
   "source": [
    "# Pre-Calibration Testing\n",
    "\n",
    "Yptest = mcmc.predict(Xtest)\n",
    "print(Yptest.shape)\n",
    "Ymtest = Yptest[:,0]\n",
    "Yvtest = Yptest[:,1]\n",
    "\n",
    "print(tf.reduce_min(Yvtest))\n",
    "\n",
    "\n",
    "print(Xtest.shape)\n",
    "plot1d_meanvar(Xtest, Ytest, Xtest, Ymtest, Yvtest)\n",
    "\n",
    "\n",
    "\n"
   ]
  },
  {
   "cell_type": "code",
   "execution_count": 12,
   "metadata": {},
   "outputs": [],
   "source": [
    "# Calibrator: CRUDE\n",
    "\n",
    "class CRUDE():\n",
    "    def __init__(self, model, xcal, ycal):\n",
    "        yhat = model.predict(xcal)\n",
    "        yhat_mean, yhat_std = yhat[:,0], yhat[:,1]\n",
    "        true_error = yhat_mean - ycal\n",
    "        scaled_true_error = true_error/yhat_std\n",
    "        self.scaled_true_error = tf.sort(scaled_true_error, axis=0, direction='ASCENDING')\n",
    "        self.len_cal = len(self.scaled_true_error)\n",
    "        self.model = model\n",
    "        \n",
    "    def percentile(self, x, p):\n",
    "        \n",
    "        yhat = self.model.predict(x)\n",
    "        yhat_mean, yhat_std = yhat[:,0], yhat[:,1]\n",
    "        index = int(self.len_cal * p)\n",
    "        error = self.scaled_true_error[index]\n",
    "        scaled_error = yhat_std * error\n",
    "        applied_error = yhat_mean + scaled_error\n",
    "        \n",
    "        return applied_error\n"
   ]
  },
  {
   "cell_type": "code",
   "execution_count": 13,
   "metadata": {},
   "outputs": [],
   "source": [
    "# Function to calculate Calibration Curve\n",
    "def Calibration_Curve(model, Xntest, Yntest, num_percentiles=100):\n",
    "    intended_percentiles = []\n",
    "    true_percentiles = []\n",
    "    for percentile in range(num_percentiles):\n",
    "        p = percentile/num_percentiles\n",
    "        print(p)\n",
    "        calculation = model.percentile(Xntest, p)\n",
    "        ptrue = tf.reduce_sum(tf.cast(Yntest < calculation, tf.float32))/len(Yntest)\n",
    "        intended_percentiles.append(p)\n",
    "        true_percentiles.append(ptrue)\n",
    "        \n",
    "    return intended_percentiles, true_percentiles\n",
    "    \n"
   ]
  },
  {
   "cell_type": "code",
   "execution_count": 14,
   "metadata": {},
   "outputs": [
    {
     "name": "stdout",
     "output_type": "stream",
     "text": [
      "0.0\n",
      "0.01\n"
     ]
    },
    {
     "ename": "KeyboardInterrupt",
     "evalue": "",
     "output_type": "error",
     "traceback": [
      "\u001b[0;31m---------------------------------------------------------------------------\u001b[0m",
      "\u001b[0;31mKeyboardInterrupt\u001b[0m                         Traceback (most recent call last)",
      "\u001b[0;32m<ipython-input-14-216415eda159>\u001b[0m in \u001b[0;36m<module>\u001b[0;34m()\u001b[0m\n\u001b[1;32m      1\u001b[0m \u001b[0;31m# Calibration Curve for CRUDE\u001b[0m\u001b[0;34m\u001b[0m\u001b[0;34m\u001b[0m\u001b[0;34m\u001b[0m\u001b[0m\n\u001b[1;32m      2\u001b[0m \u001b[0mcrude\u001b[0m \u001b[0;34m=\u001b[0m \u001b[0mCRUDE\u001b[0m\u001b[0;34m(\u001b[0m\u001b[0mmcmc\u001b[0m\u001b[0;34m,\u001b[0m \u001b[0mXcal\u001b[0m\u001b[0;34m,\u001b[0m \u001b[0mYcal\u001b[0m\u001b[0;34m)\u001b[0m\u001b[0;34m\u001b[0m\u001b[0;34m\u001b[0m\u001b[0m\n\u001b[0;32m----> 3\u001b[0;31m \u001b[0mip\u001b[0m\u001b[0;34m,\u001b[0m \u001b[0mtp\u001b[0m \u001b[0;34m=\u001b[0m \u001b[0mCalibration_Curve\u001b[0m\u001b[0;34m(\u001b[0m\u001b[0mcrude\u001b[0m\u001b[0;34m,\u001b[0m \u001b[0mXntest\u001b[0m\u001b[0;34m,\u001b[0m \u001b[0mYntest\u001b[0m\u001b[0;34m)\u001b[0m\u001b[0;34m\u001b[0m\u001b[0;34m\u001b[0m\u001b[0m\n\u001b[0m\u001b[1;32m      4\u001b[0m \u001b[0mplt\u001b[0m\u001b[0;34m.\u001b[0m\u001b[0mscatter\u001b[0m\u001b[0;34m(\u001b[0m\u001b[0mip\u001b[0m\u001b[0;34m,\u001b[0m \u001b[0mtp\u001b[0m\u001b[0;34m)\u001b[0m\u001b[0;34m\u001b[0m\u001b[0;34m\u001b[0m\u001b[0m\n",
      "\u001b[0;32m<ipython-input-13-095c0237756c>\u001b[0m in \u001b[0;36mCalibration_Curve\u001b[0;34m(model, Xntest, Yntest, num_percentiles)\u001b[0m\n\u001b[1;32m      6\u001b[0m         \u001b[0mp\u001b[0m \u001b[0;34m=\u001b[0m \u001b[0mpercentile\u001b[0m\u001b[0;34m/\u001b[0m\u001b[0mnum_percentiles\u001b[0m\u001b[0;34m\u001b[0m\u001b[0;34m\u001b[0m\u001b[0m\n\u001b[1;32m      7\u001b[0m         \u001b[0mprint\u001b[0m\u001b[0;34m(\u001b[0m\u001b[0mp\u001b[0m\u001b[0;34m)\u001b[0m\u001b[0;34m\u001b[0m\u001b[0;34m\u001b[0m\u001b[0m\n\u001b[0;32m----> 8\u001b[0;31m         \u001b[0mcalculation\u001b[0m \u001b[0;34m=\u001b[0m \u001b[0mmodel\u001b[0m\u001b[0;34m.\u001b[0m\u001b[0mpercentile\u001b[0m\u001b[0;34m(\u001b[0m\u001b[0mXntest\u001b[0m\u001b[0;34m,\u001b[0m \u001b[0mp\u001b[0m\u001b[0;34m)\u001b[0m\u001b[0;34m\u001b[0m\u001b[0;34m\u001b[0m\u001b[0m\n\u001b[0m\u001b[1;32m      9\u001b[0m         \u001b[0mptrue\u001b[0m \u001b[0;34m=\u001b[0m \u001b[0mtf\u001b[0m\u001b[0;34m.\u001b[0m\u001b[0mreduce_sum\u001b[0m\u001b[0;34m(\u001b[0m\u001b[0mtf\u001b[0m\u001b[0;34m.\u001b[0m\u001b[0mcast\u001b[0m\u001b[0;34m(\u001b[0m\u001b[0mYntest\u001b[0m \u001b[0;34m<\u001b[0m \u001b[0mcalculation\u001b[0m\u001b[0;34m,\u001b[0m \u001b[0mtf\u001b[0m\u001b[0;34m.\u001b[0m\u001b[0mfloat32\u001b[0m\u001b[0;34m)\u001b[0m\u001b[0;34m)\u001b[0m\u001b[0;34m/\u001b[0m\u001b[0mlen\u001b[0m\u001b[0;34m(\u001b[0m\u001b[0mYntest\u001b[0m\u001b[0;34m)\u001b[0m\u001b[0;34m\u001b[0m\u001b[0;34m\u001b[0m\u001b[0m\n\u001b[1;32m     10\u001b[0m         \u001b[0mintended_percentiles\u001b[0m\u001b[0;34m.\u001b[0m\u001b[0mappend\u001b[0m\u001b[0;34m(\u001b[0m\u001b[0mp\u001b[0m\u001b[0;34m)\u001b[0m\u001b[0;34m\u001b[0m\u001b[0;34m\u001b[0m\u001b[0m\n",
      "\u001b[0;32m<ipython-input-12-a65ac1748f73>\u001b[0m in \u001b[0;36mpercentile\u001b[0;34m(self, x, p)\u001b[0m\n\u001b[1;32m     13\u001b[0m     \u001b[0;32mdef\u001b[0m \u001b[0mpercentile\u001b[0m\u001b[0;34m(\u001b[0m\u001b[0mself\u001b[0m\u001b[0;34m,\u001b[0m \u001b[0mx\u001b[0m\u001b[0;34m,\u001b[0m \u001b[0mp\u001b[0m\u001b[0;34m)\u001b[0m\u001b[0;34m:\u001b[0m\u001b[0;34m\u001b[0m\u001b[0;34m\u001b[0m\u001b[0m\n\u001b[1;32m     14\u001b[0m \u001b[0;34m\u001b[0m\u001b[0m\n\u001b[0;32m---> 15\u001b[0;31m         \u001b[0myhat\u001b[0m \u001b[0;34m=\u001b[0m \u001b[0mself\u001b[0m\u001b[0;34m.\u001b[0m\u001b[0mmodel\u001b[0m\u001b[0;34m.\u001b[0m\u001b[0mpredict\u001b[0m\u001b[0;34m(\u001b[0m\u001b[0mx\u001b[0m\u001b[0;34m)\u001b[0m\u001b[0;34m\u001b[0m\u001b[0;34m\u001b[0m\u001b[0m\n\u001b[0m\u001b[1;32m     16\u001b[0m         \u001b[0myhat_mean\u001b[0m\u001b[0;34m,\u001b[0m \u001b[0myhat_std\u001b[0m \u001b[0;34m=\u001b[0m \u001b[0myhat\u001b[0m\u001b[0;34m[\u001b[0m\u001b[0;34m:\u001b[0m\u001b[0;34m,\u001b[0m\u001b[0;36m0\u001b[0m\u001b[0;34m]\u001b[0m\u001b[0;34m,\u001b[0m \u001b[0myhat\u001b[0m\u001b[0;34m[\u001b[0m\u001b[0;34m:\u001b[0m\u001b[0;34m,\u001b[0m\u001b[0;36m1\u001b[0m\u001b[0;34m]\u001b[0m\u001b[0;34m\u001b[0m\u001b[0;34m\u001b[0m\u001b[0m\n\u001b[1;32m     17\u001b[0m         \u001b[0mindex\u001b[0m \u001b[0;34m=\u001b[0m \u001b[0mint\u001b[0m\u001b[0;34m(\u001b[0m\u001b[0mself\u001b[0m\u001b[0;34m.\u001b[0m\u001b[0mlen_cal\u001b[0m \u001b[0;34m*\u001b[0m \u001b[0mp\u001b[0m\u001b[0;34m)\u001b[0m\u001b[0;34m\u001b[0m\u001b[0;34m\u001b[0m\u001b[0m\n",
      "\u001b[0;32m<ipython-input-2-546e1ecbefbe>\u001b[0m in \u001b[0;36mpredict\u001b[0;34m(self, trials, return_std, *args, **kwargs)\u001b[0m\n\u001b[1;32m    124\u001b[0m \u001b[0;34m\u001b[0m\u001b[0m\n\u001b[1;32m    125\u001b[0m         \u001b[0;32mfor\u001b[0m \u001b[0mthread\u001b[0m \u001b[0;32min\u001b[0m \u001b[0mthreads\u001b[0m\u001b[0;34m:\u001b[0m\u001b[0;34m\u001b[0m\u001b[0;34m\u001b[0m\u001b[0m\n\u001b[0;32m--> 126\u001b[0;31m             \u001b[0mthread\u001b[0m\u001b[0;34m.\u001b[0m\u001b[0mjoin\u001b[0m\u001b[0;34m(\u001b[0m\u001b[0;34m)\u001b[0m\u001b[0;34m\u001b[0m\u001b[0;34m\u001b[0m\u001b[0m\n\u001b[0m\u001b[1;32m    127\u001b[0m             \u001b[0mpredictions\u001b[0m\u001b[0;34m.\u001b[0m\u001b[0mappend\u001b[0m\u001b[0;34m(\u001b[0m\u001b[0mthread\u001b[0m\u001b[0;34m.\u001b[0m\u001b[0mresult\u001b[0m\u001b[0;34m)\u001b[0m\u001b[0;34m\u001b[0m\u001b[0;34m\u001b[0m\u001b[0m\n\u001b[1;32m    128\u001b[0m \u001b[0;34m\u001b[0m\u001b[0m\n",
      "\u001b[0;32m/Users/chrishealy/anaconda3/lib/python3.7/threading.py\u001b[0m in \u001b[0;36mjoin\u001b[0;34m(self, timeout)\u001b[0m\n\u001b[1;32m   1030\u001b[0m \u001b[0;34m\u001b[0m\u001b[0m\n\u001b[1;32m   1031\u001b[0m         \u001b[0;32mif\u001b[0m \u001b[0mtimeout\u001b[0m \u001b[0;32mis\u001b[0m \u001b[0;32mNone\u001b[0m\u001b[0;34m:\u001b[0m\u001b[0;34m\u001b[0m\u001b[0;34m\u001b[0m\u001b[0m\n\u001b[0;32m-> 1032\u001b[0;31m             \u001b[0mself\u001b[0m\u001b[0;34m.\u001b[0m\u001b[0m_wait_for_tstate_lock\u001b[0m\u001b[0;34m(\u001b[0m\u001b[0;34m)\u001b[0m\u001b[0;34m\u001b[0m\u001b[0;34m\u001b[0m\u001b[0m\n\u001b[0m\u001b[1;32m   1033\u001b[0m         \u001b[0;32melse\u001b[0m\u001b[0;34m:\u001b[0m\u001b[0;34m\u001b[0m\u001b[0;34m\u001b[0m\u001b[0m\n\u001b[1;32m   1034\u001b[0m             \u001b[0;31m# the behavior of a negative timeout isn't documented, but\u001b[0m\u001b[0;34m\u001b[0m\u001b[0;34m\u001b[0m\u001b[0;34m\u001b[0m\u001b[0m\n",
      "\u001b[0;32m/Users/chrishealy/anaconda3/lib/python3.7/threading.py\u001b[0m in \u001b[0;36m_wait_for_tstate_lock\u001b[0;34m(self, block, timeout)\u001b[0m\n\u001b[1;32m   1046\u001b[0m         \u001b[0;32mif\u001b[0m \u001b[0mlock\u001b[0m \u001b[0;32mis\u001b[0m \u001b[0;32mNone\u001b[0m\u001b[0;34m:\u001b[0m  \u001b[0;31m# already determined that the C code is done\u001b[0m\u001b[0;34m\u001b[0m\u001b[0;34m\u001b[0m\u001b[0m\n\u001b[1;32m   1047\u001b[0m             \u001b[0;32massert\u001b[0m \u001b[0mself\u001b[0m\u001b[0;34m.\u001b[0m\u001b[0m_is_stopped\u001b[0m\u001b[0;34m\u001b[0m\u001b[0;34m\u001b[0m\u001b[0m\n\u001b[0;32m-> 1048\u001b[0;31m         \u001b[0;32melif\u001b[0m \u001b[0mlock\u001b[0m\u001b[0;34m.\u001b[0m\u001b[0macquire\u001b[0m\u001b[0;34m(\u001b[0m\u001b[0mblock\u001b[0m\u001b[0;34m,\u001b[0m \u001b[0mtimeout\u001b[0m\u001b[0;34m)\u001b[0m\u001b[0;34m:\u001b[0m\u001b[0;34m\u001b[0m\u001b[0;34m\u001b[0m\u001b[0m\n\u001b[0m\u001b[1;32m   1049\u001b[0m             \u001b[0mlock\u001b[0m\u001b[0;34m.\u001b[0m\u001b[0mrelease\u001b[0m\u001b[0;34m(\u001b[0m\u001b[0;34m)\u001b[0m\u001b[0;34m\u001b[0m\u001b[0;34m\u001b[0m\u001b[0m\n\u001b[1;32m   1050\u001b[0m             \u001b[0mself\u001b[0m\u001b[0;34m.\u001b[0m\u001b[0m_stop\u001b[0m\u001b[0;34m(\u001b[0m\u001b[0;34m)\u001b[0m\u001b[0;34m\u001b[0m\u001b[0;34m\u001b[0m\u001b[0m\n",
      "\u001b[0;31mKeyboardInterrupt\u001b[0m: "
     ]
    }
   ],
   "source": [
    "# Calibration Curve for CRUDE\n",
    "crude = CRUDE(mcmc, Xcal, Ycal)\n",
    "ip, tp = Calibration_Curve(crude, Xntest, Yntest)\n",
    "plt.scatter(ip, tp)"
   ]
  },
  {
   "cell_type": "code",
   "execution_count": 15,
   "metadata": {},
   "outputs": [],
   "source": [
    "# Calibrator: Kuleshov\n",
    "\n",
    "class Kuleshov():\n",
    "    def __init__(self, model, xcal, ycal, num_buckets=100):\n",
    "        self.num_buckets = num_buckets\n",
    "        self.model = model\n",
    "        \n",
    "        yhat = model.predict(xcal)\n",
    "        yhat_mean, yhat_std = yhat[:,0], yhat[:,1]\n",
    "        percentiles = self.extract_percentiles(yhat_mean, yhat_std, ycal)\n",
    "        self.bucket_indices = self.create_buckets(percentiles)\n",
    "        \n",
    "    def percentile(self, x, p):\n",
    "        approx_index = int(p*(len(self.bucket_indices)))\n",
    "        norm_percentile = self.bucket_indices[approx_index]\n",
    "        yhat = self.model.predict(x)\n",
    "        yhat_mean, yhat_std = yhat[:,0], yhat[:,1]\n",
    "        dist = tfd.Normal(loc=yhat_mean, scale=yhat_std)\n",
    "        return dist.quantile(norm_percentile)\n",
    "             \n",
    "    def extract_percentiles(self, mean, std, true):\n",
    "        dist = tfd.Normal(loc=mean, scale=std)\n",
    "        return dist.cdf(true)\n",
    "    \n",
    "    def create_buckets(self, percentiles):\n",
    "        percentiles = tf.sort(percentiles, axis=0, direction='ASCENDING')\n",
    "        percentiles = [0.0] + [percentiles[i * int(len(percentiles)/(self.num_buckets-1))] for i in range(self.num_buckets-1)] + [1.0]\n",
    "        return percentiles\n",
    "    \n"
   ]
  },
  {
   "cell_type": "code",
   "execution_count": null,
   "metadata": {},
   "outputs": [
    {
     "name": "stdout",
     "output_type": "stream",
     "text": [
      "0.0\n",
      "0.01\n",
      "0.02\n",
      "0.03\n",
      "0.04\n",
      "0.05\n",
      "0.06\n",
      "0.07\n",
      "0.08\n",
      "0.09\n",
      "0.1\n",
      "0.11\n",
      "0.12\n",
      "0.13\n",
      "0.14\n",
      "0.15\n",
      "0.16\n",
      "0.17\n",
      "0.18\n",
      "0.19\n",
      "0.2\n",
      "0.21\n",
      "0.22\n",
      "0.23\n",
      "0.24\n",
      "0.25\n",
      "0.26\n",
      "0.27\n",
      "0.28\n",
      "0.29\n",
      "0.3\n",
      "0.31\n",
      "0.32\n",
      "0.33\n",
      "0.34\n",
      "0.35\n",
      "0.36\n",
      "0.37\n",
      "0.38\n",
      "0.39\n",
      "0.4\n",
      "0.41\n",
      "0.42\n",
      "0.43\n",
      "0.44\n",
      "0.45\n",
      "0.46\n",
      "0.47\n",
      "0.48\n",
      "0.49\n",
      "0.5\n",
      "0.51\n",
      "0.52\n",
      "0.53\n",
      "0.54\n",
      "0.55\n",
      "0.56\n",
      "0.57\n",
      "0.58\n",
      "0.59\n",
      "0.6\n",
      "0.61\n",
      "0.62\n",
      "0.63\n",
      "0.64\n",
      "0.65\n",
      "0.66\n",
      "0.67\n",
      "0.68\n",
      "0.69\n",
      "0.7\n",
      "0.71\n",
      "0.72\n",
      "0.73\n",
      "0.74\n",
      "0.75\n",
      "0.76\n",
      "0.77\n",
      "0.78\n",
      "0.79\n",
      "0.8\n",
      "0.81\n",
      "0.82\n",
      "0.83\n",
      "0.84\n",
      "0.85\n",
      "0.86\n",
      "0.87\n",
      "0.88\n",
      "0.89\n",
      "0.9\n",
      "0.91\n",
      "0.92\n",
      "0.93\n"
     ]
    }
   ],
   "source": [
    "# Calibration Curve for Kuleshov\n",
    "\n",
    "\n",
    "kul = Kuleshov(mcmc, Xcal, Ycal)\n",
    "ip, tp = Calibration_Curve(kul, Xntest, Yntest)\n",
    "plt.scatter(ip, tp)"
   ]
  },
  {
   "cell_type": "code",
   "execution_count": null,
   "metadata": {},
   "outputs": [
    {
     "name": "stdout",
     "output_type": "stream",
     "text": [
      "0.0\n",
      "0.01\n",
      "0.02\n",
      "0.03\n",
      "0.04\n",
      "0.05\n",
      "0.06\n",
      "0.07\n",
      "0.08\n",
      "0.09\n",
      "0.1\n",
      "0.11\n",
      "0.12\n",
      "0.13\n",
      "0.14\n",
      "0.15\n",
      "0.16\n",
      "0.17\n",
      "0.18\n",
      "0.19\n",
      "0.2\n",
      "0.21\n",
      "0.22\n",
      "0.23\n",
      "0.24\n",
      "0.25\n",
      "0.26\n",
      "0.27\n",
      "0.28\n",
      "0.29\n"
     ]
    }
   ],
   "source": [
    "# Calibration Curve for Kuleshov\n",
    "\n",
    "\n",
    "kul = Kuleshov(mcmc, Xcal, Ycal)\n",
    "ip, tp = Calibration_Curve(kul, Xntest, Yntest)\n",
    "plt.scatter(ip, tp)"
   ]
  },
  {
   "cell_type": "code",
   "execution_count": 18,
   "metadata": {},
   "outputs": [],
   "source": [
    "crude_demo = CRUDE(regmodel1dp, Xcal1, Ycal1)"
   ]
  },
  {
   "cell_type": "code",
   "execution_count": 126,
   "metadata": {},
   "outputs": [],
   "source": [
    "crude_demo = CRUDE(regmodel1dp, Xcal1, Ycal1)"
   ]
  },
  {
   "cell_type": "code",
   "execution_count": 19,
   "metadata": {},
   "outputs": [
    {
     "name": "stdout",
     "output_type": "stream",
     "text": [
      "tf.Tensor([-0.02218159], shape=(1,), dtype=float32)\n"
     ]
    }
   ],
   "source": [
    "print(crude_demo.scaled_true_error[int(len(crude_demo.scaled_true_error) * .5)])"
   ]
  },
  {
   "cell_type": "code",
   "execution_count": 20,
   "metadata": {},
   "outputs": [],
   "source": [
    "Xtest = np.random.random((N,1))\n",
    "Ytest = groundtruth1(Xcal1) + 0.05*np.random.random((N,1))"
   ]
  },
  {
   "cell_type": "code",
   "execution_count": 21,
   "metadata": {},
   "outputs": [
    {
     "data": {
      "text/plain": [
       "<matplotlib.collections.PathCollection at 0x7f984cc44940>"
      ]
     },
     "execution_count": 21,
     "metadata": {},
     "output_type": "execute_result"
    },
    {
     "data": {
      "image/png": "[encoded data removed]",
      "text/plain": [
       "<Figure size 432x288 with 1 Axes>"
      ]
     },
     "metadata": {
      "needs_background": "light"
     },
     "output_type": "display_data"
    }
   ],
   "source": [
    "Yhat_test = regmodel1dp.predict(Xtest)\n",
    "Yhat_test_mean = Yhat_test[:,0]\n",
    "\n",
    "plt.scatter(Xtest, Yhat_test_mean)"
   ]
  },
  {
   "cell_type": "code",
   "execution_count": 22,
   "metadata": {},
   "outputs": [
    {
     "data": {
      "text/plain": [
       "<matplotlib.collections.PathCollection at 0x7f986bb074e0>"
      ]
     },
     "execution_count": 22,
     "metadata": {},
     "output_type": "execute_result"
    },
    {
     "data": {
      "image/png": "[encoded data removed]",
      "text/plain": [
       "<Figure size 432x288 with 1 Axes>"
      ]
     },
     "metadata": {
      "needs_background": "light"
     },
     "output_type": "display_data"
    }
   ],
   "source": [
    "Yhat = crude_demo.percentile(Xtest, .5)\n",
    "Yhat1 = crude_demo.percentile(Xtest, .1)\n",
    "\n",
    "# sd = Yhat[:,1]\n",
    "# mean = Yhat[:,0]\n",
    "plt.scatter(Xtest, Yhat)\n",
    "plt.scatter(Xtest, Yhat1)"
   ]
  },
  {
   "cell_type": "code",
   "execution_count": null,
   "metadata": {},
   "outputs": [],
   "source": [
    "pl.scatter(Xtest, Ytest, c = 'k', s = 1, label = 'data')\n",
    "pl.plot(Xreg1q, Yhat[:,0], c = 'b', label = 'predicted mean')\n",
    "pl.fill_between(Xreg1q.squeeze(), mean - sd, mean + sd, alpha = 0.2, label = 'predicted SD')\n",
    "pl.ylim([-1.5, 1.5])\n",
    "pl.legend()"
   ]
  }
 ],
 "metadata": {
  "kernelspec": {
   "display_name": "Python 3",
   "language": "python",
   "name": "python3"
  },
  "language_info": {
   "codemirror_mode": {
    "name": "ipython",
    "version": 3
   },
   "file_extension": ".py",
   "mimetype": "text/x-python",
   "name": "python",
   "nbconvert_exporter": "python",
   "pygments_lexer": "ipython3",
   "version": "3.7.1"
  }
 },
 "nbformat": 4,
 "nbformat_minor": 4
}
