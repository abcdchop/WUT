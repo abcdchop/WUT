{
 "cells": [
  {
   "cell_type": "markdown",
   "metadata": {},
   "source": [
    "# WUT? - A Wrapper for Uncertainty in Tensorflow"
   ]
  },
  {
   "cell_type": "markdown",
   "metadata": {
    "id": "eMolzqQiErA_"
   },
   "source": [
    "Hello, Welcome to the Internal Guide to this Uncertainy Library-- This python notebook should contain everything a man needs to use and alter this package as he sees fit."
   ]
  },
  {
   "cell_type": "markdown",
   "metadata": {
    "id": "vDfEeUTEErBM"
   },
   "source": [
    "Now we're gonna make two models, very simple bois for regression and classification, respectively. IMPORTANT NOTE that in these networks, the output to the call is the output of the last Dense Layer. This is the only requirement for this package to work with your models. (Ensembles and Dropout should work for anything, though)"
   ]
  },
  {
   "cell_type": "markdown",
   "metadata": {
    "id": "VvP0NAvCD-nS"
   },
   "source": [
    "Disclaimer: In this guide, we only want to show how to use the WUT? library. **Please do not compare model performance by merely looking at the plots below** as they are trained differently. Different methods require different number of training epochs and other configurations to achieve the best results. Each method has its own advantages and disadvantages that we do not discuss in this guide."
   ]
  },
  {
   "cell_type": "markdown",
   "metadata": {
    "id": "YsxLqp7a9Txd"
   },
   "source": [
    "# **1. Regression**"
   ]
  },
  {
   "cell_type": "code",
   "execution_count": 1,
   "metadata": {
    "id": "tvUT2Akq9vfe"
   },
   "outputs": [],
   "source": [
    "import numpy as np\n",
    "import matplotlib.pyplot as pl\n",
    "import tensorflow as tf\n",
    "import WUT as WUT"
   ]
  },
  {
   "cell_type": "markdown",
   "metadata": {},
   "source": [
    "Let's define some plotting functions for future use."
   ]
  },
  {
   "cell_type": "code",
   "execution_count": 2,
   "metadata": {},
   "outputs": [],
   "source": [
    "def plot1d_meanvar(X, Y, Xq, Yq, sigma=None, ylims=[-1.5, 1.5]):\n",
    "    pl.figure()\n",
    "    pl.scatter(X, Y, c = 'k', s = 1, label = 'data')\n",
    "    if Yq is not None:\n",
    "        pl.plot(Xq, Yq[:,0,:], c = 'b', label = 'predicted mean')\n",
    "    if sigma is not None:\n",
    "        pl.fill_between(Xreg1q.squeeze(), Yq - 2*sigma, Yq + 2*sigma, alpha = 0.2, label = 'predicted SD')\n",
    "        pl.ylim(ylims)\n",
    "    pl.legend()\n",
    "    \n",
    "def plot1d_samples(X, Y, Xq, Ys, ylims=[-1.5, 1.5]):\n",
    "    pl.figure()\n",
    "    pl.scatter(X, Y, c = 'k', s = 1, label = 'data')\n",
    "    for i in range(Yreg1s.shape[0]):\n",
    "        pl.plot(Xq, Ys[i,:,:], c = 'b', alpha = 0.3, label = 'prediction {}'.format(i))\n",
    "    pl.ylim(ylims)\n",
    "    pl.legend()"
   ]
  },
  {
   "cell_type": "markdown",
   "metadata": {
    "id": "tr7PRz0c9ZU6"
   },
   "source": [
    "Let's create a dataset."
   ]
  },
  {
   "cell_type": "code",
   "execution_count": 3,
   "metadata": {
    "colab": {
     "base_uri": "https://localhost:8080/",
     "height": 301
    },
    "id": "Xlo4NnyO9dK-",
    "outputId": "da975d6f-281e-4fda-a912-2117014c4476"
   },
   "outputs": [
    {
     "name": "stdout",
     "output_type": "stream",
     "text": [
      "X query/predict shapes: (1000, 1)\n",
      "X-Y train shapes: (10000, 1) (10000, 1)\n",
      "X-Y test shapes: (1000, 1) (1000, 1)\n"
     ]
    },
    {
     "data": {
      "image/png": "[encoded data removed]",
      "text/plain": [
       "<Figure size 432x288 with 1 Axes>"
      ]
     },
     "metadata": {
      "needs_background": "light"
     },
     "output_type": "display_data"
    }
   ],
   "source": [
    "# Groundtruth function\n",
    "def groundtruth1(X):\n",
    "    return np.sin(12*X)\n",
    "\n",
    "# Query dataset for prediction\n",
    "Nq = 1000\n",
    "Xreg1q = np.linspace(-0.2, 1.2, Nq)[:,None]\n",
    "print(\"X query/predict shapes:\", Xreg1q.shape)\n",
    "\n",
    "\n",
    "\n",
    "# Training dataset\n",
    "N = 10000\n",
    "Xreg1 = np.random.random((N,1))\n",
    "Yreg1 = groundtruth1(Xreg1) + 0.05*np.random.random((N,1))\n",
    "print(\"X-Y train shapes:\", Xreg1.shape, Yreg1.shape)\n",
    "ylims = [-1.5,1.5] # This will be used for plotting\n",
    "plot1d_meanvar(Xreg1, Yreg1, Xreg1q, None, None, ylims)\n",
    "\n",
    "\n",
    "# Test dataset for evaluation\n",
    "Xreg1t = Xreg1q\n",
    "Yreg1t = groundtruth1(Xreg1q)\n",
    "print(\"X-Y test shapes:\", Xreg1t.shape, Yreg1t.shape)"
   ]
  },
  {
   "cell_type": "markdown",
   "metadata": {
    "id": "tAJrC7E69wUS"
   },
   "source": [
    "Let's define our network. "
   ]
  },
  {
   "cell_type": "code",
   "execution_count": 4,
   "metadata": {
    "id": "W0c3yG759z6z"
   },
   "outputs": [],
   "source": [
    "class RegModel1(tf.keras.Model):\n",
    "\n",
    "    def __init__(self):\n",
    "        super(RegModel1, self).__init__()\n",
    "        self.dense1 = tf.keras.layers.Dense(8, activation = tf.nn.relu)\n",
    "        self.dense2 = tf.keras.layers.Dense(64, activation = tf.nn.relu)\n",
    "        self.dense3 = tf.keras.layers.Dense(64, activation = tf.nn.relu)\n",
    "        self.dense4 = tf.keras.layers.Dense(1)\n",
    "\n",
    "    def call(self, inputs, training = False):\n",
    "        x = self.dense1(inputs)\n",
    "        x = self.dense2(x)\n",
    "        x = self.dense3(x)\n",
    "        return self.dense4(x)"
   ]
  },
  {
   "cell_type": "markdown",
   "metadata": {
    "id": "s8_TPiu2cyXt"
   },
   "source": [
    "# 1.1 Deterministic Inference"
   ]
  },
  {
   "cell_type": "markdown",
   "metadata": {
    "id": "NYIRvHMrCgMu"
   },
   "source": [
    "Let us train the neural network as we usually do. We will only get a deterministic estimate. Sorry, no uncertainty bounds!"
   ]
  },
  {
   "cell_type": "code",
   "execution_count": 6,
   "metadata": {
    "colab": {
     "base_uri": "https://localhost:8080/"
    },
    "id": "YHSWm1UJc6FH",
    "outputId": "cdcfed13-d19a-4be1-c5a6-1dc45e1e9bd6"
   },
   "outputs": [
    {
     "name": "stdout",
     "output_type": "stream",
     "text": [
      "Epoch 1/30\n",
      "500/500 [==============================] - 0s 587us/step - loss: 0.4687\n",
      "Epoch 2/30\n",
      "500/500 [==============================] - 0s 572us/step - loss: 0.4409\n",
      "Epoch 3/30\n",
      "500/500 [==============================] - 0s 608us/step - loss: 0.4379\n",
      "Epoch 4/30\n",
      "500/500 [==============================] - 0s 543us/step - loss: 0.4345\n",
      "Epoch 5/30\n",
      "500/500 [==============================] - 0s 574us/step - loss: 0.4292\n",
      "Epoch 6/30\n",
      "500/500 [==============================] - 0s 582us/step - loss: 0.4232\n",
      "Epoch 7/30\n",
      "500/500 [==============================] - 0s 597us/step - loss: 0.4146\n",
      "Epoch 8/30\n",
      "500/500 [==============================] - 0s 588us/step - loss: 0.4055\n",
      "Epoch 9/30\n",
      "500/500 [==============================] - 0s 589us/step - loss: 0.3948\n",
      "Epoch 10/30\n",
      "500/500 [==============================] - 0s 566us/step - loss: 0.3821\n",
      "Epoch 11/30\n",
      "500/500 [==============================] - 0s 572us/step - loss: 0.3681\n",
      "Epoch 12/30\n",
      "500/500 [==============================] - 0s 590us/step - loss: 0.3478\n",
      "Epoch 13/30\n",
      "500/500 [==============================] - 0s 568us/step - loss: 0.3139\n",
      "Epoch 14/30\n",
      "500/500 [==============================] - 0s 631us/step - loss: 0.2490\n",
      "Epoch 15/30\n",
      "500/500 [==============================] - 0s 711us/step - loss: 0.1513\n",
      "Epoch 16/30\n",
      "500/500 [==============================] - 0s 609us/step - loss: 0.0728\n",
      "Epoch 17/30\n",
      "500/500 [==============================] - 0s 589us/step - loss: 0.0455\n",
      "Epoch 18/30\n",
      "500/500 [==============================] - 0s 611us/step - loss: 0.0389\n",
      "Epoch 19/30\n",
      "500/500 [==============================] - 0s 627us/step - loss: 0.0354\n",
      "Epoch 20/30\n",
      "500/500 [==============================] - 0s 627us/step - loss: 0.0341\n",
      "Epoch 21/30\n",
      "500/500 [==============================] - 0s 674us/step - loss: 0.0329\n",
      "Epoch 22/30\n",
      "500/500 [==============================] - 0s 559us/step - loss: 0.0314\n",
      "Epoch 23/30\n",
      "500/500 [==============================] - 0s 561us/step - loss: 0.0307\n",
      "Epoch 24/30\n",
      "500/500 [==============================] - 0s 710us/step - loss: 0.0298\n",
      "Epoch 25/30\n",
      "500/500 [==============================] - 0s 599us/step - loss: 0.0283\n",
      "Epoch 26/30\n",
      "500/500 [==============================] - 0s 587us/step - loss: 0.0280\n",
      "Epoch 27/30\n",
      "500/500 [==============================] - 0s 621us/step - loss: 0.0276\n",
      "Epoch 28/30\n",
      "500/500 [==============================] - 0s 578us/step - loss: 0.0268\n",
      "Epoch 29/30\n",
      "500/500 [==============================] - 0s 586us/step - loss: 0.0258\n",
      "Epoch 30/30\n",
      "500/500 [==============================] - 0s 570us/step - loss: 0.0256\n"
     ]
    },
    {
     "data": {
      "text/plain": [
       "<tensorflow.python.keras.callbacks.History at 0x7ffe43e6ba58>"
      ]
     },
     "execution_count": 6,
     "metadata": {},
     "output_type": "execute_result"
    }
   ],
   "source": [
    "# Train\n",
    "regmodel1 = RegModel1()\n",
    "regmodel1.compile(optimizer = tf.keras.optimizers.SGD(), loss = tf.keras.losses.MSE)\n",
    "regmodel1.fit(Xreg1, Yreg1, epochs = 30, batch_size = 20)"
   ]
  },
  {
   "cell_type": "code",
   "execution_count": 7,
   "metadata": {
    "colab": {
     "base_uri": "https://localhost:8080/",
     "height": 378
    },
    "id": "3waYU_fBJVlF",
    "outputId": "405dd77b-9341-49d3-be49-d2c620700af4"
   },
   "outputs": [
    {
     "name": "stdout",
     "output_type": "stream",
     "text": [
      "X-Y predict shapes: (1000, 1) (1000, 1)\n",
      "313/313 [==============================] - 0s 659us/step - loss: 0.0362\n",
      "Evaluate train: 0.036239027976989746\n",
      "32/32 [==============================] - 0s 800us/step - loss: 1.2017\n",
      "Evaluate test: 1.2017232179641724\n"
     ]
    },
    {
     "data": {
      "image/png": "[encoded data removed]",
      "text/plain": [
       "<Figure size 432x288 with 1 Axes>"
      ]
     },
     "metadata": {
      "needs_background": "light"
     },
     "output_type": "display_data"
    }
   ],
   "source": [
    "# Predict\n",
    "Yreg1q = regmodel1.predict(Xreg1q)\n",
    "print(\"X-Y predict shapes:\", Xreg1q.shape, Yreg1q.shape)\n",
    "plot1d_meanvar(Xreg1, Yreg1, Xreg1q, tf.expand_dims(Yreg1q,2), None, ylims)\n",
    "\n",
    "# Evaluate\n",
    "print(\"Evaluate train:\", regmodel1.evaluate(Xreg1, Yreg1))\n",
    "print(\"Evaluate test:\", regmodel1.evaluate(Xreg1t, Yreg1t))"
   ]
  },
  {
   "cell_type": "markdown",
   "metadata": {
    "id": "QSrj0YVEUXlb"
   },
   "source": [
    "# 1.2. Ensemble of Networks"
   ]
  },
  {
   "cell_type": "markdown",
   "metadata": {
    "id": "7B8iW4ZaGC3O"
   },
   "source": [
    "An ensemble of neural networks is simply a collection of neural networks trained seperately. Since each network will be trained slightly differently, capturing the epistemic uncertainty, the outputs for a given test input will be different as well. We can compute the mean and standard deviation (SD) for each test input from these outputs. "
   ]
  },
  {
   "cell_type": "code",
   "execution_count": null,
   "metadata": {
    "colab": {
     "base_uri": "https://localhost:8080/"
    },
    "id": "TN0-fMVnPuql",
    "outputId": "66cd2747-7a04-452f-e7ec-c03f8ba32e7f"
   },
   "outputs": [
    {
     "name": "stdout",
     "output_type": "stream",
     "text": [
      "Epoch 1/30\n",
      "Epoch 1/30Epoch 1/30\n",
      "\n",
      "500/500 [==============================] - 1s 2ms/step - loss: 0.5007====>.....] - ETA: 0s - loss: 0.5046 - ETA: 0s - 205/500 [===========>..................] - ETA: 0s361/500 [====================>.........] - ETA: 0s - loss: 0 - ETA: 0s - loss: 0.50457/500 [==========================>...] - ETA: 0s - loss: 0\n",
      "482/500 [===========================>..] - ETA: 0s - loss: 0.4846Epoch 2/30\n",
      "500/500 [==============================] - 1s 2ms/step - loss: 0.5005\n",
      "Epoch 2/30\n",
      "500/500 [==============================] - 1s 2ms/step - loss: 0.4815\n",
      "Epoch 2/30\n",
      "500/500 [==============================] - 1s 2ms/step - loss: 0.4519\n",
      "Epoch 3/30\n",
      "500/500 [==============================] - 1s 2ms/step - loss: 0.4381\n",
      "Epoch 3/30\n",
      "500/500 [==============================] - 1s 2ms/step - loss: 0.4378\n",
      "Epoch 3/30\n",
      "500/500 [==============================] - 1s 2ms/step - loss: 0.4382A: 0s - lo\n",
      "493/500 [============================>.] - ETA: 0s - loss: 0.4341\n",
      "500/500 [==============================] - 1s 2ms/step - loss: 0.4336\n",
      "Epoch 4/30\n",
      "500/500 [==============================] - 1s 2ms/step - loss: 0.4160\n",
      "Epoch 4/30\n",
      "500/500 [==============================] - 1s 2ms/step - loss: 0.4371\n",
      "Epoch 5/30\n",
      "500/500 [==============================] - 1s 2ms/step - loss: 0.4049\n",
      "500/500 [==============================] - 1s 2ms/step - loss: 0.4299\n",
      "Epoch 5/30\n",
      "  1/500 [..............................] - ETA: 0s - loss: 0.3893Epoch 5/30\n",
      "500/500 [==============================] - 1s 2ms/step - loss: 0.435900 [======================>.......] - ETA: 0s - lo\n",
      "Epoch 6/30\n",
      "500/500 [==============================] - 1s 2ms/step - loss: 0.3882\n",
      "Epoch 6/30\n",
      "500/500 [==============================] - 1s 2ms/step - loss: 0.4252\n",
      "  1/500 [..............................] - ETA: 0s - loss: 0.4971Epoch 6/30\n",
      "500/500 [==============================] - 1s 2ms/step - loss: 0.4345\n",
      "Epoch 7/30\n",
      "500/500 [==============================] - 1s 2ms/step - loss: 0.3615\n",
      "  1/500 [..............................] - ETA: 0s - loss: 0.4971Epoch 7/30\n",
      "500/500 [==============================] - ETA: 0s - loss: 0.4285 - 1s 2ms/step - loss: 0.4184\n",
      "Epoch 7/3\n",
      "500/500 [==============================] - 1s 2ms/step - loss: 0.431800 [======>...............\n",
      "Epoch 8/30\n",
      "500/500 [==============================] - 1s 2ms/step - loss: 0.3135\n",
      "Epoch 8/30\n",
      "500/500 [==============================] - 1s 2ms/step - loss: 0.4082\n",
      "Epoch 8/30\n",
      "500/500 [==============================] - 1s 2ms/step - loss: 0.4295\n",
      "Epoch 9/30\n",
      "500/500 [==============================] - 1s 2ms/step - loss: 0.2306\n",
      "Epoch 9/30\n",
      "500/500 [==============================] - 1s 2ms/step - loss: 0.3910\n",
      "Epoch 9/30\n",
      "500/500 [==============================] - 1s 2ms/step - loss: 0.4260500 [===============>..............] - ETA: 0s - l - ETA: 0\n",
      "Epoch 10/30\n",
      "500/500 [==============================] - 1s 2ms/step - loss: 0.1247\n",
      "Epoch 10/30\n",
      "500/500 [==============================] - 1s 2ms/step - loss: 0.3600\n",
      "\bEpoch 10/30\n",
      "500/500 [==============================] - 1s 2ms/step - loss: 0.0582500 [==================>...........] - ETA: 0s - l\n",
      "426/500 [========================>.....] - ETA: 0s - loss: 0.3069Epoch 11/30\n",
      "500/500 [==============================] - 1s 2ms/step - loss: 0.4219\n",
      "Epoch 11/30\n",
      "500/500 [==============================] - 1s 2ms/step - loss: 0.3016\n",
      "Epoch 11/30\n",
      "500/500 [==============================] - 1s 2ms/step - loss: 0.4161\n",
      "Epoch 12/30\n",
      "500/500 [==============================] - 1s 2ms/step - loss: 0.0402\n",
      "Epoch 12/30\n",
      "500/500 [==============================] - 1s 2ms/step - loss: 0.1981\n",
      "Epoch 12/30\n",
      "500/500 [==============================] - 1s 2ms/step - loss: 0.4090\n",
      "Epoch 13/30\n",
      "500/500 [==============================] - 1s 2ms/step - loss: 0.0368\n",
      "Epoch 13/30\n",
      "500/500 [==============================] - 1s 2ms/step - loss: 0.0881\n",
      "Epoch 13/30\n",
      "500/500 [==============================] - 1s 2ms/step - loss: 0.3994\n",
      "428/500 [========================>.....] - ETA: 0s - loss: 0.0445Epoch 14/30\n",
      "500/500 [==============================] - 1s 2ms/step - loss: 0.0357\n",
      " 33/500 [>.............................] - ETA: 0s - loss: 0.4006Epoch 14/3\n",
      "500/500 [==============================] - 1s 2ms/step - loss: 0.0435\n",
      "Epoch 14/30\n",
      "500/500 [==============================] - 1s 2ms/step - loss: 0.3875\n",
      "484/500 [============================>.] - ETA: 0s - loss: 0.0346Epoch 15/30\n",
      "500/500 [==============================] - 1s 2ms/step - loss: 0.0347\n",
      "Epoch 15/30\n",
      "500/500 [==============================] - 1s 2ms/step - loss: 0.0346\n",
      " 85/500 [====>.........................] - ETA: 0s - loss: 0.3790Epoch 15/30\n",
      " 26/500 [>.............................] - ETA: 0s - loss: 0.0338"
     ]
    }
   ],
   "source": [
    "from WUT.Ensemble import Ensemble \n",
    "\n",
    "# Model\n",
    "Nen = 3 # Number of networks for the ensemble\n",
    "regmodel1en = Ensemble(RegModel1, Nen) # The only thing we need to do is simply wrapping our Keras model inside WUT.Ensemble()\n",
    "\n",
    "# Train\n",
    "regmodel1en.compile(optimizer = tf.keras.optimizers.SGD(), loss = tf.keras.losses.MSE)\n",
    "regmodel1en.fit(Xreg1, Yreg1, epochs = 30, batch_size = 20)"
   ]
  },
  {
   "cell_type": "code",
   "execution_count": null,
   "metadata": {
    "colab": {
     "base_uri": "https://localhost:8080/",
     "height": 451
    },
    "id": "P_3a9Z7mQO77",
    "outputId": "1d8841a5-8c6e-4c95-89b8-45443894fd66"
   },
   "outputs": [],
   "source": [
    "# Predict\n",
    "Yreg1q = regmodel1en.predict(Xreg1q) # The mean and sd are the 0th and 1st columns, respectively\n",
    "mean, sd = tf.reshape(Yreg1q[:,0,:],[-1]), tf.reshape(Yreg1q[:,1,:],[-1])\n",
    "\n",
    "print(\"Xq-Yq shapes:\", Xreg1q.shape, Yreg1q.shape)\n",
    "print(\"Eval:\", regmodel1en.evaluate(Xreg1, Yreg1))\n",
    "print(\"Eval_q:\", regmodel1en.evaluate(Xreg1q, Yreg1q))\n",
    "\n",
    "pl.scatter(Xreg1, Yreg1, c = 'k', s = 1, label = 'data')\n",
    "pl.plot(Xreg1q, Yreg1q[:,0,:], c = 'b', label = 'predicted mean')\n",
    "pl.fill_between(Xreg1q.squeeze(), mean - 2*sd, mean + 2*sd, alpha = 0.2, label = 'predicted SD')\n",
    "pl.ylim([-1.5, 1.5])\n",
    "pl.legend()"
   ]
  },
  {
   "cell_type": "code",
   "execution_count": 8,
   "metadata": {
    "colab": {
     "base_uri": "https://localhost:8080/",
     "height": 191
    },
    "id": "GZjHLJ33F3z4",
    "outputId": "5b34d9ef-1c3f-408d-8950-fa74fab66b20"
   },
   "outputs": [
    {
     "name": "stdout",
     "output_type": "stream",
     "text": [
      "Xq-Ys shapes: (1000, 1) (3, 1000, 1)\n"
     ]
    },
    {
     "data": {
      "text/plain": [
       "<matplotlib.legend.Legend at 0x7f83fec36cc0>"
      ]
     },
     "execution_count": 8,
     "metadata": {},
     "output_type": "execute_result"
    },
    {
     "data": {
      "image/png": "[encoded data removed]",
      "text/plain": [
       "<Figure size 432x288 with 1 Axes>"
      ]
     },
     "metadata": {
      "needs_background": "light"
     },
     "output_type": "display_data"
    }
   ],
   "source": [
    "# Sample - rather than merely computing the meand and sd, we can also see what each neural network outputs\n",
    "Yreg1s = regmodel1en.sample(Xreg1q)\n",
    "print(\"Xq-Ys shapes:\", Xreg1q.shape, Yreg1s.shape) # Each NN output is in the 0th column\n",
    "\n",
    "pl.scatter(Xreg1, Yreg1, c = 'k', s = 1, label = 'data')\n",
    "for i in range(Yreg1s.shape[0]):\n",
    "    pl.plot(Xreg1q, Yreg1s[i,:,:], c = 'b', alpha = 0.3, label = 'prediction {}'.format(i))\n",
    "pl.ylim([-1.5, 1.5])\n",
    "pl.legend()"
   ]
  },
  {
   "cell_type": "markdown",
   "metadata": {
    "id": "KJX8Msp8Um19"
   },
   "source": [
    "# 1.3. Monte Carlo Dropout"
   ]
  },
  {
   "cell_type": "code",
   "execution_count": 6,
   "metadata": {
    "colab": {
     "base_uri": "https://localhost:8080/"
    },
    "id": "5dhHYZ-EUlpq",
    "outputId": "9f111aef-dc20-4c09-f5c5-4fc5004d1ae0"
   },
   "outputs": [
    {
     "name": "stdout",
     "output_type": "stream",
     "text": [
      "Epoch 1/30\n",
      "500/500 [==============================] - 0s 608us/step - loss: 0.5006\n",
      "Epoch 2/30\n",
      "500/500 [==============================] - 0s 555us/step - loss: 0.4754\n",
      "Epoch 3/30\n",
      "500/500 [==============================] - 0s 596us/step - loss: 0.4613\n",
      "Epoch 4/30\n",
      "500/500 [==============================] - 0s 553us/step - loss: 0.4622\n",
      "Epoch 5/30\n",
      "500/500 [==============================] - 0s 579us/step - loss: 0.4584\n",
      "Epoch 6/30\n",
      "500/500 [==============================] - 0s 571us/step - loss: 0.4512\n",
      "Epoch 7/30\n",
      "500/500 [==============================] - 0s 589us/step - loss: 0.4466\n",
      "Epoch 8/30\n",
      "500/500 [==============================] - 0s 552us/step - loss: 0.4436\n",
      "Epoch 9/30\n",
      "500/500 [==============================] - 0s 552us/step - loss: 0.4397\n",
      "Epoch 10/30\n",
      "500/500 [==============================] - 0s 553us/step - loss: 0.4284\n",
      "Epoch 11/30\n",
      "500/500 [==============================] - 0s 568us/step - loss: 0.4212\n",
      "Epoch 12/30\n",
      "500/500 [==============================] - 0s 759us/step - loss: 0.4119\n",
      "Epoch 13/30\n",
      "500/500 [==============================] - 0s 665us/step - loss: 0.3929\n",
      "Epoch 14/30\n",
      "500/500 [==============================] - 0s 685us/step - loss: 0.3748\n",
      "Epoch 15/30\n",
      "500/500 [==============================] - 0s 642us/step - loss: 0.3425\n",
      "Epoch 16/30\n",
      "500/500 [==============================] - 0s 597us/step - loss: 0.3056\n",
      "Epoch 17/30\n",
      "500/500 [==============================] - 0s 674us/step - loss: 0.2857\n",
      "Epoch 18/30\n",
      "500/500 [==============================] - 0s 628us/step - loss: 0.2636\n",
      "Epoch 19/30\n",
      "500/500 [==============================] - 0s 754us/step - loss: 0.2504\n",
      "Epoch 20/30\n",
      "500/500 [==============================] - 0s 742us/step - loss: 0.2498\n",
      "Epoch 21/30\n",
      "500/500 [==============================] - 0s 635us/step - loss: 0.2363\n",
      "Epoch 22/30\n",
      "500/500 [==============================] - 0s 586us/step - loss: 0.2263\n",
      "Epoch 23/30\n",
      "500/500 [==============================] - 0s 578us/step - loss: 0.2190\n",
      "Epoch 24/30\n",
      "500/500 [==============================] - 0s 608us/step - loss: 0.2138\n",
      "Epoch 25/30\n",
      "500/500 [==============================] - 0s 702us/step - loss: 0.2119\n",
      "Epoch 26/30\n",
      "500/500 [==============================] - 0s 729us/step - loss: 0.2035\n",
      "Epoch 27/30\n",
      "500/500 [==============================] - 0s 711us/step - loss: 0.1974\n",
      "Epoch 28/30\n",
      "500/500 [==============================] - 0s 581us/step - loss: 0.1922\n",
      "Epoch 29/30\n",
      "500/500 [==============================] - 0s 565us/step - loss: 0.1898\n",
      "Epoch 30/30\n",
      "500/500 [==============================] - 0s 638us/step - loss: 0.1918\n"
     ]
    }
   ],
   "source": [
    "from WUT.Dropout import Dropout\n",
    "\n",
    "# Model\n",
    "rate = 0.2 # What rate to neurons drop out\n",
    "regmodel1dp = Dropout(RegModel1, rate = 0.2, dropout_layers = [tf.keras.layers.Dense])\n",
    "\n",
    "# Train\n",
    "regmodel1dp.compile(optimizer = tf.keras.optimizers.SGD(), loss = tf.keras.losses.MSE)\n",
    "regmodel1dp.fit(Xreg1, Yreg1, epochs = 30, batch_size = 20)"
   ]
  },
  {
   "cell_type": "code",
   "execution_count": 7,
   "metadata": {
    "colab": {
     "base_uri": "https://localhost:8080/",
     "height": 446
    },
    "id": "CBOOFXcEUbHB",
    "outputId": "51d5f355-9c35-4134-ed3b-eaace30014bf"
   },
   "outputs": [
    {
     "name": "stdout",
     "output_type": "stream",
     "text": [
      "Xq-Yq shapes: (1000, 1) (1000, 2, 1)\n",
      "313/313 [==============================] - 0s 1ms/step - loss: 0.1866\n",
      "313/313 [==============================] - 0s 1ms/step - loss: 0.1871\n",
      "313/313 [==============================] - 0s 1ms/step - loss: 0.1871\n",
      "Eval: [0.18656010925769806, 0.18711569905281067, 0.187077134847641]\n",
      "32/32 [==============================] - 0s 3ms/step - loss: 0.3900\n",
      "32/32 [==============================] - 0s 3ms/step - loss: 0.4644\n",
      "32/32 [==============================] - 0s 3ms/step - loss: 0.4943\n",
      "Eval_q: [0.38999566435813904, 0.4942944347858429, 0.46443745493888855]\n"
     ]
    },
    {
     "data": {
      "text/plain": [
       "<matplotlib.legend.Legend at 0x7fa4d5d2b9e8>"
      ]
     },
     "execution_count": 7,
     "metadata": {},
     "output_type": "execute_result"
    },
    {
     "data": {
      "image/png": "[encoded data removed]",
      "text/plain": [
       "<Figure size 432x288 with 1 Axes>"
      ]
     },
     "metadata": {
      "needs_background": "light"
     },
     "output_type": "display_data"
    }
   ],
   "source": [
    "# Predict\n",
    "Yreg1q = regmodel1dp.predict(Xreg1q)\n",
    "print(\"Xq-Yq shapes:\", Xreg1q.shape, Yreg1q.shape)\n",
    "print(\"Eval:\", regmodel1dp.evaluate(Xreg1, Yreg1))\n",
    "print(\"Eval_q:\", regmodel1dp.evaluate(Xreg1q, Yreg1q))\n",
    "\n",
    "mean, sd = tf.reshape(Yreg1q[:,0,:],[-1]), tf.reshape(Yreg1q[:,1,:],[-1])\n",
    "\n",
    "pl.scatter(Xreg1, Yreg1, c = 'k', s = 1, label = 'data')\n",
    "pl.plot(Xreg1q, Yreg1q[:,0,:], c = 'b', label = 'predicted mean')\n",
    "pl.fill_between(Xreg1q.squeeze(), mean - 2*sd, mean + 2*sd, alpha = 0.2, label = 'predicted SD')\n",
    "pl.ylim([-1.5, 1.5])\n",
    "pl.legend()"
   ]
  },
  {
   "cell_type": "code",
   "execution_count": 9,
   "metadata": {},
   "outputs": [
    {
     "name": "stdout",
     "output_type": "stream",
     "text": [
      "Xq-Ys shapes: (1000, 1) (3, 1000, 1)\n"
     ]
    },
    {
     "data": {
      "text/plain": [
       "<matplotlib.legend.Legend at 0x7fa4b893cf98>"
      ]
     },
     "execution_count": 9,
     "metadata": {},
     "output_type": "execute_result"
    },
    {
     "data": {
      "image/png": "[encoded data removed]",
      "text/plain": [
       "<Figure size 432x288 with 1 Axes>"
      ]
     },
     "metadata": {
      "needs_background": "light"
     },
     "output_type": "display_data"
    }
   ],
   "source": [
    "# Sample - rather than merely computing the meand and sd, we can also see what each neural network outputs\n",
    "Yreg1s = regmodel1dp.sample(Xreg1q)\n",
    "print(\"Xq-Ys shapes:\", Xreg1q.shape, Yreg1s.shape) # Each NN output is in the 0th column\n",
    "\n",
    "pl.scatter(Xreg1, Yreg1, c = 'k', s = 1, label = 'data')\n",
    "for i in range(Yreg1s.shape[0]):\n",
    "    pl.plot(Xreg1q, Yreg1s[i,:,:], c = 'b', alpha = 0.3, label = 'prediction {}'.format(i))\n",
    "pl.ylim([-1.5, 1.5])\n",
    "pl.legend()"
   ]
  },
  {
   "cell_type": "markdown",
   "metadata": {
    "id": "YuaWYQ1IZ6-s"
   },
   "source": [
    "# Variance Networks"
   ]
  },
  {
   "cell_type": "code",
   "execution_count": null,
   "metadata": {
    "colab": {
     "base_uri": "https://localhost:8080/"
    },
    "id": "8PuC6tkTZ9hp",
    "outputId": "94a4618e-3b27-41d8-e222-7ba3825986e2"
   },
   "outputs": [
    {
     "name": "stdout",
     "output_type": "stream",
     "text": [
      "Epoch 1/20\n",
      "625/625 [==============================] - 1s 1ms/step - loss: 0.5111\n",
      "Epoch 2/20\n",
      "625/625 [==============================] - 1s 1ms/step - loss: 0.4295\n",
      "Epoch 3/20\n",
      "625/625 [==============================] - 1s 1ms/step - loss: 0.4202\n",
      "Epoch 4/20\n",
      "625/625 [==============================] - 1s 1ms/step - loss: 0.4129\n",
      "Epoch 5/20\n",
      "625/625 [==============================] - 1s 1ms/step - loss: 0.3866\n",
      "Epoch 6/20\n",
      "625/625 [==============================] - 1s 1ms/step - loss: 0.3740\n",
      "Epoch 7/20\n",
      "625/625 [==============================] - 1s 1ms/step - loss: 0.3645\n",
      "Epoch 8/20\n",
      "625/625 [==============================] - 1s 1ms/step - loss: 0.3562\n",
      "Epoch 9/20\n",
      "625/625 [==============================] - 1s 1ms/step - loss: 0.3276\n",
      "Epoch 10/20\n",
      "625/625 [==============================] - 1s 1ms/step - loss: 0.2955\n",
      "Epoch 11/20\n",
      "625/625 [==============================] - 1s 1ms/step - loss: 0.2299\n",
      "Epoch 12/20\n",
      "625/625 [==============================] - 1s 1ms/step - loss: 0.1535\n",
      "Epoch 13/20\n",
      "625/625 [==============================] - 1s 1ms/step - loss: 0.1085\n",
      "Epoch 14/20\n",
      "625/625 [==============================] - 1s 1ms/step - loss: 0.0881\n",
      "Epoch 15/20\n",
      "625/625 [==============================] - 1s 1ms/step - loss: 0.0671\n",
      "Epoch 16/20\n",
      "625/625 [==============================] - 1s 1ms/step - loss: 0.0579\n",
      "Epoch 17/20\n",
      "625/625 [==============================] - 1s 1ms/step - loss: 0.0508\n",
      "Epoch 18/20\n",
      "625/625 [==============================] - 1s 1ms/step - loss: 0.0449\n",
      "Epoch 19/20\n",
      "625/625 [==============================] - 1s 1ms/step - loss: 0.0387\n",
      "Epoch 20/20\n",
      "625/625 [==============================] - 1s 1ms/step - loss: 0.0432\n",
      "Epoch 1/20\n",
      "625/625 [==============================] - 1s 1ms/step - loss: 0.0161\n",
      "Epoch 2/20\n",
      "625/625 [==============================] - 1s 1ms/step - loss: 0.0125\n",
      "Epoch 3/20\n",
      "625/625 [==============================] - 1s 1ms/step - loss: 0.0115\n",
      "Epoch 4/20\n",
      "625/625 [==============================] - 1s 1ms/step - loss: 0.0102\n",
      "Epoch 5/20\n",
      "625/625 [==============================] - 1s 1ms/step - loss: 0.0099\n",
      "Epoch 6/20\n",
      "625/625 [==============================] - 1s 1ms/step - loss: 0.0093\n",
      "Epoch 7/20\n",
      "625/625 [==============================] - 1s 1ms/step - loss: 0.0091\n",
      "Epoch 8/20\n",
      "625/625 [==============================] - 1s 1ms/step - loss: 0.0083\n",
      "Epoch 9/20\n",
      "625/625 [==============================] - 1s 1ms/step - loss: 0.0082\n",
      "Epoch 10/20\n",
      "625/625 [==============================] - 1s 1ms/step - loss: 0.0075\n",
      "Epoch 11/20\n",
      "625/625 [==============================] - 1s 1ms/step - loss: 0.0076\n",
      "Epoch 12/20\n",
      "625/625 [==============================] - 1s 1ms/step - loss: 0.0076\n",
      "Epoch 13/20\n",
      "625/625 [==============================] - 1s 1ms/step - loss: 0.0078\n",
      "Epoch 14/20\n",
      "625/625 [==============================] - 1s 1ms/step - loss: 0.0076\n",
      "Epoch 15/20\n",
      "625/625 [==============================] - 1s 1ms/step - loss: 0.0073\n",
      "Epoch 16/20\n",
      "625/625 [==============================] - 1s 1ms/step - loss: 0.0077\n",
      "Epoch 17/20\n",
      "625/625 [==============================] - 1s 1ms/step - loss: 0.0074\n",
      "Epoch 18/20\n",
      "625/625 [==============================] - 1s 1ms/step - loss: 0.0074\n",
      "Epoch 19/20\n",
      "625/625 [==============================] - 1s 1ms/step - loss: 0.0073\n",
      "Epoch 20/20\n",
      "625/625 [==============================] - 1s 1ms/step - loss: 0.0074\n"
     ]
    }
   ],
   "source": [
    "from WUT.Variance_Network import Variance_Network\n",
    "\n",
    "# Model\n",
    "regmodel1vn = Variance_Network(RegModel1)\n",
    "\n",
    "# Train\n",
    "regmodel1vn.compile(optimizer = tf.keras.optimizers.SGD(), loss = tf.keras.losses.MSE)\n",
    "regmodel1vn.fit(Xreg1, Yreg1, epochs=20, batch_size=16)"
   ]
  },
  {
   "cell_type": "code",
   "execution_count": null,
   "metadata": {
    "colab": {
     "base_uri": "https://localhost:8080/",
     "height": 374
    },
    "id": "IjHilwe5Z9kG",
    "outputId": "7d0d0f1f-dc94-40e5-99e5-7605fb0e667d"
   },
   "outputs": [
    {
     "name": "stdout",
     "output_type": "stream",
     "text": [
      "Xq-Yq shapes: (1000, 1) (1000, 2, 1)\n",
      "313/313 [==============================] - 0s 974us/step - loss: 0.0286\n",
      "Eval: 0.028628064319491386\n",
      "32/32 [==============================] - 0s 2ms/step - loss: 0.2546\n",
      "Eval_q: 0.254580020904541\n"
     ]
    },
    {
     "data": {
      "text/plain": [
       "<matplotlib.collections.PolyCollection at 0x7fb1a2707290>"
      ]
     },
     "execution_count": 160,
     "metadata": {
      "tags": []
     },
     "output_type": "execute_result"
    },
    {
     "data": {
      "image/png": "[encoded data removed]",
      "text/plain": [
       "<Figure size 432x288 with 1 Axes>"
      ]
     },
     "metadata": {
      "needs_background": "light",
      "tags": []
     },
     "output_type": "display_data"
    }
   ],
   "source": [
    "# Predict\n",
    "Nq = 1000\n",
    "Xreg1q = np.linspace(0, 5*np.pi, Nq)[:,None] - 2\n",
    "Yreg1q = regmodel1vn.predict(Xreg1q)\n",
    "print(\"Xq-Yq shapes:\", Xreg1q.shape, Yreg1q.shape)\n",
    "print(\"Eval:\", regmodel1vn.evaluate(Xreg1, Yreg1))\n",
    "print(\"Eval_q:\", regmodel1vn.evaluate(Xreg1q, Yreg1q))\n",
    "\n",
    "pl.scatter(Xreg1, Yreg1, c='k', s=1)\n",
    "pl.plot(Xreg1q, Yreg1q[:,0,:], c='b')\n",
    "mean, sd = tf.reshape(Yreg1q[:,0,:],[-1]), tf.reshape(Yreg1q[:,1,:],[-1])\n",
    "pl.fill_between(Xreg1q.squeeze(), mean - 2*sd, mean + 2*sd, alpha=0.2)"
   ]
  },
  {
   "cell_type": "markdown",
   "metadata": {
    "id": "-Bcrb_FoaoKk"
   },
   "source": [
    "# Stochastic Variational Inference"
   ]
  },
  {
   "cell_type": "code",
   "execution_count": null,
   "metadata": {
    "colab": {
     "base_uri": "https://localhost:8080/"
    },
    "id": "u8EMsA41asdj",
    "outputId": "0c2d46aa-77bf-4725-c0e2-d483f9b042be"
   },
   "outputs": [
    {
     "name": "stdout",
     "output_type": "stream",
     "text": [
      "Epoch 1/20\n",
      "625/625 [==============================] - 4s 2ms/step - loss: 257054.7821\n",
      "Epoch 2/20\n",
      "625/625 [==============================] - 1s 2ms/step - loss: 107239.3916\n",
      "Epoch 3/20\n",
      "625/625 [==============================] - 1s 2ms/step - loss: 49911.9786\n",
      "Epoch 4/20\n",
      "625/625 [==============================] - 1s 2ms/step - loss: 38073.1846\n",
      "Epoch 5/20\n",
      "625/625 [==============================] - 1s 2ms/step - loss: 24221.6173\n",
      "Epoch 6/20\n",
      "625/625 [==============================] - 1s 2ms/step - loss: 14301.3439\n",
      "Epoch 7/20\n",
      "625/625 [==============================] - 1s 2ms/step - loss: 10716.6641\n",
      "Epoch 8/20\n",
      "625/625 [==============================] - 1s 2ms/step - loss: 9839.5773\n",
      "Epoch 9/20\n",
      "625/625 [==============================] - 1s 2ms/step - loss: 6081.5319\n",
      "Epoch 10/20\n",
      "625/625 [==============================] - 1s 2ms/step - loss: 4852.2515\n",
      "Epoch 11/20\n",
      "625/625 [==============================] - 1s 2ms/step - loss: 3034.7029\n",
      "Epoch 12/20\n",
      "625/625 [==============================] - 1s 2ms/step - loss: 2199.9434\n",
      "Epoch 13/20\n",
      "625/625 [==============================] - 1s 2ms/step - loss: 1681.7420\n",
      "Epoch 14/20\n",
      "625/625 [==============================] - 1s 2ms/step - loss: 1297.4320\n",
      "Epoch 15/20\n",
      "625/625 [==============================] - 1s 2ms/step - loss: 950.6297\n",
      "Epoch 16/20\n",
      "625/625 [==============================] - 1s 2ms/step - loss: 582.4727\n",
      "Epoch 17/20\n",
      "625/625 [==============================] - 1s 2ms/step - loss: 493.7505\n",
      "Epoch 18/20\n",
      "625/625 [==============================] - 1s 2ms/step - loss: 311.6515\n",
      "Epoch 19/20\n",
      "625/625 [==============================] - 1s 2ms/step - loss: 209.1634\n",
      "Epoch 20/20\n",
      "625/625 [==============================] - 1s 2ms/step - loss: 180.4617\n",
      "Epoch 1/20\n",
      "625/625 [==============================] - 1s 2ms/step - loss: 139.2635\n",
      "Epoch 2/20\n",
      "625/625 [==============================] - 1s 2ms/step - loss: 107.3634\n",
      "Epoch 3/20\n",
      "625/625 [==============================] - 1s 2ms/step - loss: 79.1846\n",
      "Epoch 4/20\n",
      "625/625 [==============================] - 1s 2ms/step - loss: 63.1225\n",
      "Epoch 5/20\n",
      "625/625 [==============================] - 1s 2ms/step - loss: 61.7973\n",
      "Epoch 6/20\n",
      "625/625 [==============================] - 1s 2ms/step - loss: 52.0763\n",
      "Epoch 7/20\n",
      "625/625 [==============================] - 1s 2ms/step - loss: 44.7314\n",
      "Epoch 8/20\n",
      "625/625 [==============================] - 1s 2ms/step - loss: 39.6210\n",
      "Epoch 9/20\n",
      "625/625 [==============================] - 1s 2ms/step - loss: 37.0319\n",
      "Epoch 10/20\n",
      "625/625 [==============================] - 1s 2ms/step - loss: 35.8683\n",
      "Epoch 11/20\n",
      "625/625 [==============================] - 1s 2ms/step - loss: 35.4646\n",
      "Epoch 12/20\n",
      "625/625 [==============================] - 1s 2ms/step - loss: 34.4193\n",
      "Epoch 13/20\n",
      "625/625 [==============================] - 1s 2ms/step - loss: 34.1984\n",
      "Epoch 14/20\n",
      "625/625 [==============================] - 1s 2ms/step - loss: 31.8698\n",
      "Epoch 15/20\n",
      "625/625 [==============================] - 1s 2ms/step - loss: 32.3017\n",
      "Epoch 16/20\n",
      "625/625 [==============================] - 1s 2ms/step - loss: 32.0610\n",
      "Epoch 17/20\n",
      "625/625 [==============================] - 1s 2ms/step - loss: 31.6790\n",
      "Epoch 18/20\n",
      "625/625 [==============================] - 1s 2ms/step - loss: 31.0593\n",
      "Epoch 19/20\n",
      "625/625 [==============================] - 1s 2ms/step - loss: 31.1666\n",
      "Epoch 20/20\n",
      "625/625 [==============================] - 1s 2ms/step - loss: 30.9617\n"
     ]
    }
   ],
   "source": [
    "from WUT.SVI import SVI\n",
    "\n",
    "# Model\n",
    "regmodel1vi = SVI(RegModel1)\n",
    "\n",
    "# Train\n",
    "regmodel1vi.compile(optimizer = tf.keras.optimizers.Adam(lr=0.001)) #, loss = tf.keras.losses.MSE #Err Why vanilla SGD doesn't work? ERR: Becomes nan when the lr is too high\n",
    "regmodel1vi.fit(tf.convert_to_tensor(Xreg1, dtype=tf.float32), tf.convert_to_tensor(Yreg1, dtype=tf.float32), epochs=20, batch_size=16) #Err had change the scale"
   ]
  },
  {
   "cell_type": "code",
   "execution_count": null,
   "metadata": {
    "colab": {
     "base_uri": "https://localhost:8080/",
     "height": 360
    },
    "id": "pRPRP_haaspW",
    "outputId": "476b1bbd-8778-4b00-d01f-c3fe1b4bb5bd"
   },
   "outputs": [
    {
     "name": "stdout",
     "output_type": "stream",
     "text": [
      "313/313 [==============================] - 0s 2ms/step - loss: 197686.3906\n",
      "Eval: 197686.390625\n",
      "32/32 [==============================] - 0s 1ms/step - loss: 218498.4688\n",
      "Eval_q: 218498.46875\n"
     ]
    },
    {
     "data": {
      "text/plain": [
       "(-1.5, 1.5)"
      ]
     },
     "execution_count": 91,
     "metadata": {
      "tags": []
     },
     "output_type": "execute_result"
    },
    {
     "data": {
      "image/png": "[encoded data removed]",
      "text/plain": [
       "<Figure size 432x288 with 1 Axes>"
      ]
     },
     "metadata": {
      "needs_background": "light",
      "tags": []
     },
     "output_type": "display_data"
    }
   ],
   "source": [
    "# Predict\n",
    "Nq = 1000\n",
    "Xreg1q = np.linspace(0, 5*np.pi, Nq)[:,None] - 2\n",
    "Yreg1q = regmodel1vi.predict(tf.convert_to_tensor(Xreg1q, dtype=tf.float32)) # ERR 4 \n",
    "mean, sd = tf.reshape(Yreg1q.loc, [-1]), tf.reshape(Yreg1q.scale, [-1])\n",
    "# print(\"Xq-Yq shapes:\", Xreg1q.shape, Yreg1q.shape, mean.shape, sd.shape) \n",
    "print(\"Eval:\", regmodel1vi.evaluate(Xreg1, Yreg1))\n",
    "print(\"Eval_q:\", regmodel1vi.evaluate(Xreg1q, mean)) \n",
    "\n",
    "pl.scatter(Xreg1, Yreg1, c='k', s=1)\n",
    "pl.plot(Xreg1q, mean, c='b')\n",
    "pl.fill_between(Xreg1q.squeeze(), mean - 2*sd, mean + 2*sd, alpha=0.2)\n",
    "pl.ylim([-1.5, 1.5])"
   ]
  },
  {
   "cell_type": "markdown",
   "metadata": {
    "id": "vzKIaVa-binl"
   },
   "source": [
    "# Mxiture Density Networks"
   ]
  },
  {
   "cell_type": "code",
   "execution_count": null,
   "metadata": {
    "colab": {
     "base_uri": "https://localhost:8080/"
    },
    "id": "gDpRwjrablxl",
    "outputId": "4b709e06-8376-469f-8d41-637fccc8ce25"
   },
   "outputs": [
    {
     "name": "stdout",
     "output_type": "stream",
     "text": [
      "Epoch 1/20\n",
      "625/625 [==============================] - 3s 2ms/step - loss: 1.0237\n",
      "Epoch 2/20\n",
      "625/625 [==============================] - 1s 2ms/step - loss: 0.8097\n",
      "Epoch 3/20\n",
      "625/625 [==============================] - 1s 2ms/step - loss: 0.7057\n",
      "Epoch 4/20\n",
      "625/625 [==============================] - 1s 2ms/step - loss: 0.6634\n",
      "Epoch 5/20\n",
      "625/625 [==============================] - 1s 2ms/step - loss: 0.6068\n",
      "Epoch 6/20\n",
      "625/625 [==============================] - 1s 2ms/step - loss: 0.5100\n",
      "Epoch 7/20\n",
      "625/625 [==============================] - 1s 2ms/step - loss: 0.4529\n",
      "Epoch 8/20\n",
      "625/625 [==============================] - 1s 2ms/step - loss: 0.4159\n",
      "Epoch 9/20\n",
      "625/625 [==============================] - 1s 2ms/step - loss: 0.3475\n",
      "Epoch 10/20\n",
      "625/625 [==============================] - 1s 2ms/step - loss: 0.3959\n",
      "Epoch 11/20\n",
      "625/625 [==============================] - 1s 2ms/step - loss: 0.3136\n",
      "Epoch 12/20\n",
      "625/625 [==============================] - 1s 2ms/step - loss: 0.3166\n",
      "Epoch 13/20\n",
      "625/625 [==============================] - 1s 2ms/step - loss: 0.2678\n",
      "Epoch 14/20\n",
      "625/625 [==============================] - 1s 1ms/step - loss: 0.2688\n",
      "Epoch 15/20\n",
      "625/625 [==============================] - 1s 2ms/step - loss: 0.1890\n",
      "Epoch 16/20\n",
      "625/625 [==============================] - 1s 2ms/step - loss: 0.1486\n",
      "Epoch 17/20\n",
      "625/625 [==============================] - 1s 2ms/step - loss: 0.1759\n",
      "Epoch 18/20\n",
      "625/625 [==============================] - 1s 1ms/step - loss: 0.0607\n",
      "Epoch 19/20\n",
      "625/625 [==============================] - 1s 2ms/step - loss: 0.0736\n",
      "Epoch 20/20\n",
      "625/625 [==============================] - 1s 2ms/step - loss: -0.0299\n"
     ]
    }
   ],
   "source": [
    "from WUT.Gaussian_Mixtures import Gaussian_Mixtures\n",
    "\n",
    "# Model\n",
    "regmodel1gm = Gaussian_Mixtures(RegModel1, 5)\n",
    "\n",
    "# Train\n",
    "regmodel1gm.compile(optimizer = tf.keras.optimizers.SGD()) #, loss = tf.keras.losses.MSE  # # ERR 3 -show we have a loss?\n",
    "regmodel1gm.fit(Xreg1, Yreg1, epochs=20, batch_size=16)"
   ]
  },
  {
   "cell_type": "code",
   "execution_count": null,
   "metadata": {
    "colab": {
     "base_uri": "https://localhost:8080/",
     "height": 392
    },
    "id": "0JJBVEQHblzv",
    "outputId": "caa5ea81-9347-46bc-f840-c7f36a2d60c0"
   },
   "outputs": [
    {
     "name": "stdout",
     "output_type": "stream",
     "text": [
      "(100, 1000, 1)\n",
      "Xq-Yq shapes: (1000, 1) (100, 1000, 1)\n",
      "313/313 [==============================] - 0s 1ms/step - loss: -0.1316\n",
      "Eval: -0.13157756626605988\n",
      "32/32 [==============================] - 0s 1ms/step - loss: -0.2864\n",
      "Eval_q: -0.2863677740097046\n"
     ]
    },
    {
     "data": {
      "text/plain": [
       "<matplotlib.collections.PolyCollection at 0x7f3ce44a75d0>"
      ]
     },
     "execution_count": 33,
     "metadata": {
      "tags": []
     },
     "output_type": "execute_result"
    },
    {
     "data": {
      "image/png": "[encoded data removed]",
      "text/plain": [
       "<Figure size 432x288 with 1 Axes>"
      ]
     },
     "metadata": {
      "needs_background": "light",
      "tags": []
     },
     "output_type": "display_data"
    }
   ],
   "source": [
    "# Predict\n",
    "Nq = 1000\n",
    "Xreg1q = np.linspace(0, 5*np.pi, Nq)[:,None] - 2\n",
    "Yreg1q = regmodel1gm.predict(Xreg1q).sample(100) #ERR 2: sample\n",
    "mean, sd = tf.reshape(np.mean(Yreg1q, axis=0),[-1]), tf.reshape(np.std(Yreg1q, axis=0),[-1])\n",
    "print(Yreg1q.shape)\n",
    "print(\"Xq-Yq shapes:\", Xreg1q.shape, Yreg1q.shape) # ERR 1\n",
    "print(\"Eval:\", regmodel1gm.evaluate(Xreg1, Yreg1))\n",
    "print(\"Eval_q:\", regmodel1gm.evaluate(Xreg1q, mean)) \n",
    "\n",
    "pl.scatter(Xreg1, Yreg1, c='k', s=1)\n",
    "pl.plot(Xreg1q, mean, c='b')\n",
    "pl.fill_between(Xreg1q.squeeze(), mean - 2*sd, mean + 2*sd, alpha=0.2)"
   ]
  },
  {
   "cell_type": "markdown",
   "metadata": {
    "id": "N4NjGtL_UzaM"
   },
   "source": [
    "================================================================="
   ]
  },
  {
   "cell_type": "markdown",
   "metadata": {
    "id": "_NyUqFPrErBN"
   },
   "source": [
    "You could then train these guys normally: "
   ]
  },
  {
   "cell_type": "code",
   "execution_count": null,
   "metadata": {
    "colab": {
     "base_uri": "https://localhost:8080/"
    },
    "id": "wMx2gHT9ErBN",
    "outputId": "78deb451-5e5a-47ac-8784-bb28eed39dc4"
   },
   "outputs": [
    {
     "name": "stdout",
     "output_type": "stream",
     "text": [
      "16105/16105 [==============================] - 24s 1ms/step - loss: 119138.0350\n",
      "1/1 [==============================] - 0s 111ms/step - loss: 11276.7246\n",
      "11276.724609375\n",
      "[[2054.4988]\n",
      " [2145.9312]\n",
      " [2100.9233]\n",
      " [1964.1365]\n",
      " [2146.509 ]]\n"
     ]
    }
   ],
   "source": [
    "regmodel = RegModel()\n",
    "regmodel.compile(optimizer = tf.keras.optimizers.Adam(), loss = tf.keras.losses.MSE)\n",
    "regmodel.fit(Xreg, Yreg)\n",
    "print(regmodel.evaluate(Xreg[0:5], Yreg[0:5]))\n",
    "print(regmodel.predict(Xreg[0:5]))\n",
    "\n",
    "\n",
    "# classmodel = ClassModel()\n",
    "# classmodel.compile(optimizer = tf.keras.optimizers.Adam(), loss = tf.keras.losses.CategoricalCrossentropy())\n",
    "# classmodel.fit(Xclass, Yclass)\n",
    "# print(classmodel.evaluate(Xclass[0:5], Yclass[0:5]))\n",
    "# print(classmodel.predict(Xclass[0:5]))"
   ]
  },
  {
   "cell_type": "markdown",
   "metadata": {
    "id": "g9fFl7InErBO"
   },
   "source": [
    "Alternatively, you could wrap them in an ensemble first \n",
    "(that second argument in the wrapper is the number of ensembles you'd like). \n",
    "\n",
    "The output will now be a mean and variance of ensemble outputs."
   ]
  },
  {
   "cell_type": "markdown",
   "metadata": {
    "id": "c6oFxvT8ErBO"
   },
   "source": [
    "# NOTE: Fails with tf 2.1 No module named 'tensorflow.python.keras.layers.ops'\" Needs to upgrade to >=2.2. Currently, testing using 2.4.1"
   ]
  },
  {
   "cell_type": "code",
   "execution_count": null,
   "metadata": {
    "colab": {
     "base_uri": "https://localhost:8080/"
    },
    "id": "S7WRKgX8ErBO",
    "outputId": "b148d33e-f2dd-4818-e737-41dc70c78577"
   },
   "outputs": [
    {
     "name": "stdout",
     "output_type": "stream",
     "text": [
      "16105/16105 [==============================] - 23s 1ms/step - loss: 139384.8447\n",
      "16105/16105 [==============================] - 23s 1ms/step - loss: 92037.9441\n",
      "1/1 [==============================] - 0s 79ms/step - loss: 2695.3296\n",
      "1/1 [==============================] - 0s 80ms/step - loss: 3633.9133\n",
      "[2695.32958984375, 3633.913330078125]\n",
      "tf.Tensor(\n",
      "[[[2015.732    ]\n",
      "  [   2.2370605]]\n",
      "\n",
      " [[2009.1104   ]\n",
      "  [  28.44574  ]]\n",
      "\n",
      " [[2055.9775   ]\n",
      "  [   6.4556885]]\n",
      "\n",
      " [[1996.7039   ]\n",
      "  [  13.099243 ]]\n",
      "\n",
      " [[2107.6743   ]\n",
      "  [   9.614868 ]]], shape=(5, 2, 1), dtype=float32)\n"
     ]
    }
   ],
   "source": [
    "from WUT.Ensemble import Ensemble\n",
    "\n",
    "regmodel = Ensemble(RegModel, 2)\n",
    "regmodel.compile(optimizer = tf.keras.optimizers.Adam(), loss = tf.keras.losses.MSE)\n",
    "regmodel.fit(Xreg, Yreg)\n",
    "print(regmodel.evaluate(Xreg[0:5], Yreg[0:5]))\n",
    "print(regmodel.predict(Xreg[0:5]))\n",
    "\n",
    "\n",
    "\n",
    "\n",
    "\n",
    "# classmodel = Ensemble(ClassModel, 2)\n",
    "# classmodel.compile(optimizer = tf.keras.optimizers.Adam(), loss = tf.keras.losses.CategoricalCrossentropy())\n",
    "# classmodel.fit(Xclass, Yclass)\n",
    "# print(classmodel.evaluate(Xclass[0:5], Yclass[0:5]))\n",
    "# print(classmodel.predict(Xclass[0:5]))\n",
    "\n",
    "\n"
   ]
  },
  {
   "cell_type": "markdown",
   "metadata": {
    "id": "2fwZuZipErBP"
   },
   "source": [
    "Or, you could wrap them in an MC dropout scheme first \n",
    "\n",
    "(second arg is dropout rate, \n",
    "\n",
    "third arg defaults to what is below, and determines what types of layers dropout is applied to-- this hasn't been tested on everything, but Dense layers are definitely safe)\n",
    "\n",
    "The output will now be a mean and variance of multiple trials through the network, with trials obviously determining trials."
   ]
  },
  {
   "cell_type": "code",
   "execution_count": null,
   "metadata": {
    "id": "qFeRHtekErBP",
    "outputId": "d20ac5e0-a59a-41dd-8ae0-d9a097168b84"
   },
   "outputs": [
    {
     "ename": "TypeError",
     "evalue": "function() got an unexpected keyword argument 'jit_compile'",
     "output_type": "error",
     "traceback": [
      "\u001b[0;31m---------------------------------------------------------------------------\u001b[0m",
      "\u001b[0;31mTypeError\u001b[0m                                 Traceback (most recent call last)",
      "\u001b[0;32m<ipython-input-6-04e27e725d3f>\u001b[0m in \u001b[0;36m<module>\u001b[0;34m\u001b[0m\n\u001b[0;32m----> 1\u001b[0;31m \u001b[0;32mfrom\u001b[0m \u001b[0mWUT\u001b[0m\u001b[0;34m.\u001b[0m\u001b[0mDropout\u001b[0m \u001b[0;32mimport\u001b[0m \u001b[0mDropout\u001b[0m\u001b[0;34m\u001b[0m\u001b[0;34m\u001b[0m\u001b[0m\n\u001b[0m\u001b[1;32m      2\u001b[0m \u001b[0;34m\u001b[0m\u001b[0m\n\u001b[1;32m      3\u001b[0m \u001b[0mregmodel\u001b[0m \u001b[0;34m=\u001b[0m \u001b[0mDropout\u001b[0m\u001b[0;34m(\u001b[0m\u001b[0mRegModel\u001b[0m\u001b[0;34m,\u001b[0m \u001b[0;36m0.2\u001b[0m\u001b[0;34m,\u001b[0m \u001b[0mdropout_layers\u001b[0m \u001b[0;34m=\u001b[0m \u001b[0;34m[\u001b[0m\u001b[0mtf\u001b[0m\u001b[0;34m.\u001b[0m\u001b[0mkeras\u001b[0m\u001b[0;34m.\u001b[0m\u001b[0mlayers\u001b[0m\u001b[0;34m.\u001b[0m\u001b[0mDense\u001b[0m\u001b[0;34m]\u001b[0m\u001b[0;34m)\u001b[0m\u001b[0;34m\u001b[0m\u001b[0;34m\u001b[0m\u001b[0m\n\u001b[1;32m      4\u001b[0m \u001b[0mregmodel\u001b[0m\u001b[0;34m.\u001b[0m\u001b[0mcompile\u001b[0m\u001b[0;34m(\u001b[0m\u001b[0moptimizer\u001b[0m \u001b[0;34m=\u001b[0m \u001b[0mtf\u001b[0m\u001b[0;34m.\u001b[0m\u001b[0mkeras\u001b[0m\u001b[0;34m.\u001b[0m\u001b[0moptimizers\u001b[0m\u001b[0;34m.\u001b[0m\u001b[0mAdam\u001b[0m\u001b[0;34m(\u001b[0m\u001b[0;34m)\u001b[0m\u001b[0;34m,\u001b[0m \u001b[0mloss\u001b[0m \u001b[0;34m=\u001b[0m \u001b[0mtf\u001b[0m\u001b[0;34m.\u001b[0m\u001b[0mkeras\u001b[0m\u001b[0;34m.\u001b[0m\u001b[0mlosses\u001b[0m\u001b[0;34m.\u001b[0m\u001b[0mMSE\u001b[0m\u001b[0;34m)\u001b[0m\u001b[0;34m\u001b[0m\u001b[0;34m\u001b[0m\u001b[0m\n\u001b[1;32m      5\u001b[0m \u001b[0mregmodel\u001b[0m\u001b[0;34m.\u001b[0m\u001b[0mfit\u001b[0m\u001b[0;34m(\u001b[0m\u001b[0mXreg\u001b[0m\u001b[0;34m,\u001b[0m \u001b[0mYreg\u001b[0m\u001b[0;34m)\u001b[0m\u001b[0;34m\u001b[0m\u001b[0;34m\u001b[0m\u001b[0m\n",
      "\u001b[0;32m~/PycharmProjects/Stanford/WUT/WUT/WUT/Dropout.py\u001b[0m in \u001b[0;36m<module>\u001b[0;34m\u001b[0m\n\u001b[1;32m      3\u001b[0m \u001b[0;32mimport\u001b[0m \u001b[0mtypes\u001b[0m\u001b[0;34m\u001b[0m\u001b[0;34m\u001b[0m\u001b[0m\n\u001b[1;32m      4\u001b[0m \u001b[0;32mfrom\u001b[0m \u001b[0mtensorflow\u001b[0m\u001b[0;34m.\u001b[0m\u001b[0mpython\u001b[0m\u001b[0;34m.\u001b[0m\u001b[0mkeras\u001b[0m\u001b[0;34m.\u001b[0m\u001b[0mlayers\u001b[0m\u001b[0;34m.\u001b[0m\u001b[0mops\u001b[0m \u001b[0;32mimport\u001b[0m \u001b[0mcore\u001b[0m \u001b[0;32mas\u001b[0m \u001b[0mcore_ops\u001b[0m\u001b[0;34m\u001b[0m\u001b[0;34m\u001b[0m\u001b[0m\n\u001b[0;32m----> 5\u001b[0;31m \u001b[0;32mimport\u001b[0m \u001b[0mmdn\u001b[0m\u001b[0;34m\u001b[0m\u001b[0;34m\u001b[0m\u001b[0m\n\u001b[0m\u001b[1;32m      6\u001b[0m \u001b[0;32mfrom\u001b[0m \u001b[0mtensorflow\u001b[0m\u001b[0;34m.\u001b[0m\u001b[0mcompat\u001b[0m\u001b[0;34m.\u001b[0m\u001b[0mv1\u001b[0m\u001b[0;34m.\u001b[0m\u001b[0mkeras\u001b[0m \u001b[0;32mimport\u001b[0m \u001b[0mlayers\u001b[0m\u001b[0;34m\u001b[0m\u001b[0;34m\u001b[0m\u001b[0m\n\u001b[1;32m      7\u001b[0m \u001b[0;32mfrom\u001b[0m \u001b[0mtensorflow\u001b[0m\u001b[0;34m.\u001b[0m\u001b[0mpython\u001b[0m\u001b[0;34m.\u001b[0m\u001b[0mkeras\u001b[0m \u001b[0;32mimport\u001b[0m \u001b[0mactivations\u001b[0m\u001b[0;34m\u001b[0m\u001b[0;34m\u001b[0m\u001b[0m\n",
      "\u001b[0;32m~/RansVirtualEnvs/Main3.5/lib/python3.6/site-packages/mdn/__init__.py\u001b[0m in \u001b[0;36m<module>\u001b[0;34m\u001b[0m\n\u001b[1;32m     15\u001b[0m \u001b[0;32mimport\u001b[0m \u001b[0mnumpy\u001b[0m \u001b[0;32mas\u001b[0m \u001b[0mnp\u001b[0m\u001b[0;34m\u001b[0m\u001b[0;34m\u001b[0m\u001b[0m\n\u001b[1;32m     16\u001b[0m \u001b[0;32mimport\u001b[0m \u001b[0mtensorflow\u001b[0m\u001b[0;34m.\u001b[0m\u001b[0mcompat\u001b[0m\u001b[0;34m.\u001b[0m\u001b[0mv1\u001b[0m \u001b[0;32mas\u001b[0m \u001b[0mtf\u001b[0m\u001b[0;34m\u001b[0m\u001b[0;34m\u001b[0m\u001b[0m\n\u001b[0;32m---> 17\u001b[0;31m \u001b[0;32mfrom\u001b[0m \u001b[0mtensorflow_probability\u001b[0m \u001b[0;32mimport\u001b[0m \u001b[0mdistributions\u001b[0m \u001b[0;32mas\u001b[0m \u001b[0mtfd\u001b[0m\u001b[0;34m\u001b[0m\u001b[0;34m\u001b[0m\u001b[0m\n\u001b[0m\u001b[1;32m     18\u001b[0m \u001b[0;34m\u001b[0m\u001b[0m\n\u001b[1;32m     19\u001b[0m \u001b[0;34m\u001b[0m\u001b[0m\n",
      "\u001b[0;32m~/RansVirtualEnvs/Main3.5/lib/python3.6/site-packages/tensorflow_probability/__init__.py\u001b[0m in \u001b[0;36m<module>\u001b[0;34m\u001b[0m\n\u001b[1;32m     21\u001b[0m \u001b[0;31m# from tensorflow_probability.google import staging  # DisableOnExport\u001b[0m\u001b[0;34m\u001b[0m\u001b[0;34m\u001b[0m\u001b[0;34m\u001b[0m\u001b[0m\n\u001b[1;32m     22\u001b[0m \u001b[0;31m# from tensorflow_probability.google import tfp_google  # DisableOnExport\u001b[0m\u001b[0;34m\u001b[0m\u001b[0;34m\u001b[0m\u001b[0;34m\u001b[0m\u001b[0m\n\u001b[0;32m---> 23\u001b[0;31m \u001b[0;32mfrom\u001b[0m \u001b[0mtensorflow_probability\u001b[0m\u001b[0;34m.\u001b[0m\u001b[0mpython\u001b[0m \u001b[0;32mimport\u001b[0m \u001b[0;34m*\u001b[0m  \u001b[0;31m# pylint: disable=wildcard-import\u001b[0m\u001b[0;34m\u001b[0m\u001b[0;34m\u001b[0m\u001b[0m\n\u001b[0m\u001b[1;32m     24\u001b[0m \u001b[0;32mfrom\u001b[0m \u001b[0mtensorflow_probability\u001b[0m\u001b[0;34m.\u001b[0m\u001b[0mpython\u001b[0m\u001b[0;34m.\u001b[0m\u001b[0mversion\u001b[0m \u001b[0;32mimport\u001b[0m \u001b[0m__version__\u001b[0m\u001b[0;34m\u001b[0m\u001b[0;34m\u001b[0m\u001b[0m\n\u001b[1;32m     25\u001b[0m \u001b[0;34m\u001b[0m\u001b[0m\n",
      "\u001b[0;32m~/RansVirtualEnvs/Main3.5/lib/python3.6/site-packages/tensorflow_probability/python/__init__.py\u001b[0m in \u001b[0;36m<module>\u001b[0;34m\u001b[0m\n\u001b[1;32m    140\u001b[0m   \u001b[0;31m# Non-lazy load of packages that register with tensorflow or keras.\u001b[0m\u001b[0;34m\u001b[0m\u001b[0;34m\u001b[0m\u001b[0;34m\u001b[0m\u001b[0m\n\u001b[1;32m    141\u001b[0m   \u001b[0;32mfor\u001b[0m \u001b[0mpkg_name\u001b[0m \u001b[0;32min\u001b[0m \u001b[0m_maybe_nonlazy_load\u001b[0m\u001b[0;34m:\u001b[0m\u001b[0;34m\u001b[0m\u001b[0;34m\u001b[0m\u001b[0m\n\u001b[0;32m--> 142\u001b[0;31m     \u001b[0mdir\u001b[0m\u001b[0;34m(\u001b[0m\u001b[0mglobals\u001b[0m\u001b[0;34m(\u001b[0m\u001b[0;34m)\u001b[0m\u001b[0;34m[\u001b[0m\u001b[0mpkg_name\u001b[0m\u001b[0;34m]\u001b[0m\u001b[0;34m)\u001b[0m  \u001b[0;31m# Forces loading the package from its lazy loader.\u001b[0m\u001b[0;34m\u001b[0m\u001b[0;34m\u001b[0m\u001b[0m\n\u001b[0m\u001b[1;32m    143\u001b[0m \u001b[0;34m\u001b[0m\u001b[0m\n\u001b[1;32m    144\u001b[0m \u001b[0;34m\u001b[0m\u001b[0m\n",
      "\u001b[0;32m~/RansVirtualEnvs/Main3.5/lib/python3.6/site-packages/tensorflow_probability/python/internal/lazy_loader.py\u001b[0m in \u001b[0;36m__dir__\u001b[0;34m(self)\u001b[0m\n\u001b[1;32m     59\u001b[0m \u001b[0;34m\u001b[0m\u001b[0m\n\u001b[1;32m     60\u001b[0m   \u001b[0;32mdef\u001b[0m \u001b[0m__dir__\u001b[0m\u001b[0;34m(\u001b[0m\u001b[0mself\u001b[0m\u001b[0;34m)\u001b[0m\u001b[0;34m:\u001b[0m\u001b[0;34m\u001b[0m\u001b[0;34m\u001b[0m\u001b[0m\n\u001b[0;32m---> 61\u001b[0;31m     \u001b[0mmodule\u001b[0m \u001b[0;34m=\u001b[0m \u001b[0mself\u001b[0m\u001b[0;34m.\u001b[0m\u001b[0m_load\u001b[0m\u001b[0;34m(\u001b[0m\u001b[0;34m)\u001b[0m\u001b[0;34m\u001b[0m\u001b[0;34m\u001b[0m\u001b[0m\n\u001b[0m\u001b[1;32m     62\u001b[0m     \u001b[0;32mreturn\u001b[0m \u001b[0mdir\u001b[0m\u001b[0;34m(\u001b[0m\u001b[0mmodule\u001b[0m\u001b[0;34m)\u001b[0m\u001b[0;34m\u001b[0m\u001b[0;34m\u001b[0m\u001b[0m\n\u001b[1;32m     63\u001b[0m \u001b[0;34m\u001b[0m\u001b[0m\n",
      "\u001b[0;32m~/RansVirtualEnvs/Main3.5/lib/python3.6/site-packages/tensorflow_probability/python/internal/lazy_loader.py\u001b[0m in \u001b[0;36m_load\u001b[0;34m(self)\u001b[0m\n\u001b[1;32m     42\u001b[0m       \u001b[0mself\u001b[0m\u001b[0;34m.\u001b[0m\u001b[0m_on_first_access\u001b[0m \u001b[0;34m=\u001b[0m \u001b[0;32mNone\u001b[0m\u001b[0;34m\u001b[0m\u001b[0;34m\u001b[0m\u001b[0m\n\u001b[1;32m     43\u001b[0m     \u001b[0;31m# Import the target module and insert it into the parent's namespace\u001b[0m\u001b[0;34m\u001b[0m\u001b[0;34m\u001b[0m\u001b[0;34m\u001b[0m\u001b[0m\n\u001b[0;32m---> 44\u001b[0;31m     \u001b[0mmodule\u001b[0m \u001b[0;34m=\u001b[0m \u001b[0mimportlib\u001b[0m\u001b[0;34m.\u001b[0m\u001b[0mimport_module\u001b[0m\u001b[0;34m(\u001b[0m\u001b[0mself\u001b[0m\u001b[0;34m.\u001b[0m\u001b[0m__name__\u001b[0m\u001b[0;34m)\u001b[0m\u001b[0;34m\u001b[0m\u001b[0;34m\u001b[0m\u001b[0m\n\u001b[0m\u001b[1;32m     45\u001b[0m     \u001b[0;32mif\u001b[0m \u001b[0mself\u001b[0m\u001b[0;34m.\u001b[0m\u001b[0m_parent_module_globals\u001b[0m \u001b[0;32mis\u001b[0m \u001b[0;32mnot\u001b[0m \u001b[0;32mNone\u001b[0m\u001b[0;34m:\u001b[0m\u001b[0;34m\u001b[0m\u001b[0;34m\u001b[0m\u001b[0m\n\u001b[1;32m     46\u001b[0m       \u001b[0mself\u001b[0m\u001b[0;34m.\u001b[0m\u001b[0m_parent_module_globals\u001b[0m\u001b[0;34m[\u001b[0m\u001b[0mself\u001b[0m\u001b[0;34m.\u001b[0m\u001b[0m_local_name\u001b[0m\u001b[0;34m]\u001b[0m \u001b[0;34m=\u001b[0m \u001b[0mmodule\u001b[0m\u001b[0;34m\u001b[0m\u001b[0;34m\u001b[0m\u001b[0m\n",
      "\u001b[0;32m~/RansVirtualEnvs/Main3.5/lib/python3.6/importlib/__init__.py\u001b[0m in \u001b[0;36mimport_module\u001b[0;34m(name, package)\u001b[0m\n\u001b[1;32m    124\u001b[0m                 \u001b[0;32mbreak\u001b[0m\u001b[0;34m\u001b[0m\u001b[0;34m\u001b[0m\u001b[0m\n\u001b[1;32m    125\u001b[0m             \u001b[0mlevel\u001b[0m \u001b[0;34m+=\u001b[0m \u001b[0;36m1\u001b[0m\u001b[0;34m\u001b[0m\u001b[0;34m\u001b[0m\u001b[0m\n\u001b[0;32m--> 126\u001b[0;31m     \u001b[0;32mreturn\u001b[0m \u001b[0m_bootstrap\u001b[0m\u001b[0;34m.\u001b[0m\u001b[0m_gcd_import\u001b[0m\u001b[0;34m(\u001b[0m\u001b[0mname\u001b[0m\u001b[0;34m[\u001b[0m\u001b[0mlevel\u001b[0m\u001b[0;34m:\u001b[0m\u001b[0;34m]\u001b[0m\u001b[0;34m,\u001b[0m \u001b[0mpackage\u001b[0m\u001b[0;34m,\u001b[0m \u001b[0mlevel\u001b[0m\u001b[0;34m)\u001b[0m\u001b[0;34m\u001b[0m\u001b[0;34m\u001b[0m\u001b[0m\n\u001b[0m\u001b[1;32m    127\u001b[0m \u001b[0;34m\u001b[0m\u001b[0m\n\u001b[1;32m    128\u001b[0m \u001b[0;34m\u001b[0m\u001b[0m\n",
      "\u001b[0;32m~/RansVirtualEnvs/Main3.5/lib/python3.6/site-packages/tensorflow_probability/python/experimental/__init__.py\u001b[0m in \u001b[0;36m<module>\u001b[0;34m\u001b[0m\n\u001b[1;32m     33\u001b[0m \u001b[0;34m\u001b[0m\u001b[0m\n\u001b[1;32m     34\u001b[0m \u001b[0;32mfrom\u001b[0m \u001b[0mtensorflow_probability\u001b[0m\u001b[0;34m.\u001b[0m\u001b[0mpython\u001b[0m\u001b[0;34m.\u001b[0m\u001b[0mexperimental\u001b[0m \u001b[0;32mimport\u001b[0m \u001b[0mauto_batching\u001b[0m\u001b[0;34m\u001b[0m\u001b[0;34m\u001b[0m\u001b[0m\n\u001b[0;32m---> 35\u001b[0;31m \u001b[0;32mfrom\u001b[0m \u001b[0mtensorflow_probability\u001b[0m\u001b[0;34m.\u001b[0m\u001b[0mpython\u001b[0m\u001b[0;34m.\u001b[0m\u001b[0mexperimental\u001b[0m \u001b[0;32mimport\u001b[0m \u001b[0mbijectors\u001b[0m\u001b[0;34m\u001b[0m\u001b[0;34m\u001b[0m\u001b[0m\n\u001b[0m\u001b[1;32m     36\u001b[0m \u001b[0;32mfrom\u001b[0m \u001b[0mtensorflow_probability\u001b[0m\u001b[0;34m.\u001b[0m\u001b[0mpython\u001b[0m\u001b[0;34m.\u001b[0m\u001b[0mexperimental\u001b[0m \u001b[0;32mimport\u001b[0m \u001b[0mdistribute\u001b[0m\u001b[0;34m\u001b[0m\u001b[0;34m\u001b[0m\u001b[0m\n\u001b[1;32m     37\u001b[0m \u001b[0;32mfrom\u001b[0m \u001b[0mtensorflow_probability\u001b[0m\u001b[0;34m.\u001b[0m\u001b[0mpython\u001b[0m\u001b[0;34m.\u001b[0m\u001b[0mexperimental\u001b[0m \u001b[0;32mimport\u001b[0m \u001b[0mdistributions\u001b[0m\u001b[0;34m\u001b[0m\u001b[0;34m\u001b[0m\u001b[0m\n",
      "\u001b[0;32m~/RansVirtualEnvs/Main3.5/lib/python3.6/site-packages/tensorflow_probability/python/experimental/bijectors/__init__.py\u001b[0m in \u001b[0;36m<module>\u001b[0;34m\u001b[0m\n\u001b[1;32m     15\u001b[0m \u001b[0;34m\"\"\"TensorFlow Probability experimental bijectors package.\"\"\"\u001b[0m\u001b[0;34m\u001b[0m\u001b[0;34m\u001b[0m\u001b[0m\n\u001b[1;32m     16\u001b[0m \u001b[0;34m\u001b[0m\u001b[0m\n\u001b[0;32m---> 17\u001b[0;31m \u001b[0;32mfrom\u001b[0m \u001b[0mtensorflow_probability\u001b[0m\u001b[0;34m.\u001b[0m\u001b[0mpython\u001b[0m\u001b[0;34m.\u001b[0m\u001b[0mbijectors\u001b[0m\u001b[0;34m.\u001b[0m\u001b[0mldj_ratio\u001b[0m \u001b[0;32mimport\u001b[0m \u001b[0mforward_log_det_jacobian_ratio\u001b[0m\u001b[0;34m\u001b[0m\u001b[0;34m\u001b[0m\u001b[0m\n\u001b[0m\u001b[1;32m     18\u001b[0m \u001b[0;32mfrom\u001b[0m \u001b[0mtensorflow_probability\u001b[0m\u001b[0;34m.\u001b[0m\u001b[0mpython\u001b[0m\u001b[0;34m.\u001b[0m\u001b[0mbijectors\u001b[0m\u001b[0;34m.\u001b[0m\u001b[0mldj_ratio\u001b[0m \u001b[0;32mimport\u001b[0m \u001b[0minverse_log_det_jacobian_ratio\u001b[0m\u001b[0;34m\u001b[0m\u001b[0;34m\u001b[0m\u001b[0m\n\u001b[1;32m     19\u001b[0m \u001b[0;32mfrom\u001b[0m \u001b[0mtensorflow_probability\u001b[0m\u001b[0;34m.\u001b[0m\u001b[0mpython\u001b[0m\u001b[0;34m.\u001b[0m\u001b[0mexperimental\u001b[0m\u001b[0;34m.\u001b[0m\u001b[0mbijectors\u001b[0m\u001b[0;34m.\u001b[0m\u001b[0mdistribution_bijectors\u001b[0m \u001b[0;32mimport\u001b[0m \u001b[0mmake_distribution_bijector\u001b[0m\u001b[0;34m\u001b[0m\u001b[0;34m\u001b[0m\u001b[0m\n",
      "\u001b[0;32m~/RansVirtualEnvs/Main3.5/lib/python3.6/site-packages/tensorflow_probability/python/bijectors/__init__.py\u001b[0m in \u001b[0;36m<module>\u001b[0;34m\u001b[0m\n\u001b[1;32m     21\u001b[0m \u001b[0;31m# pylint: disable=unused-import,wildcard-import,line-too-long,g-importing-member\u001b[0m\u001b[0;34m\u001b[0m\u001b[0;34m\u001b[0m\u001b[0;34m\u001b[0m\u001b[0m\n\u001b[1;32m     22\u001b[0m \u001b[0;34m\u001b[0m\u001b[0m\n\u001b[0;32m---> 23\u001b[0;31m \u001b[0;32mfrom\u001b[0m \u001b[0mtensorflow_probability\u001b[0m\u001b[0;34m.\u001b[0m\u001b[0mpython\u001b[0m\u001b[0;34m.\u001b[0m\u001b[0mbijectors\u001b[0m\u001b[0;34m.\u001b[0m\u001b[0mabsolute_value\u001b[0m \u001b[0;32mimport\u001b[0m \u001b[0mAbsoluteValue\u001b[0m\u001b[0;34m\u001b[0m\u001b[0;34m\u001b[0m\u001b[0m\n\u001b[0m\u001b[1;32m     24\u001b[0m \u001b[0;32mfrom\u001b[0m \u001b[0mtensorflow_probability\u001b[0m\u001b[0;34m.\u001b[0m\u001b[0mpython\u001b[0m\u001b[0;34m.\u001b[0m\u001b[0mbijectors\u001b[0m\u001b[0;34m.\u001b[0m\u001b[0maffine\u001b[0m \u001b[0;32mimport\u001b[0m \u001b[0mAffine\u001b[0m\u001b[0;34m\u001b[0m\u001b[0;34m\u001b[0m\u001b[0m\n\u001b[1;32m     25\u001b[0m \u001b[0;32mfrom\u001b[0m \u001b[0mtensorflow_probability\u001b[0m\u001b[0;34m.\u001b[0m\u001b[0mpython\u001b[0m\u001b[0;34m.\u001b[0m\u001b[0mbijectors\u001b[0m\u001b[0;34m.\u001b[0m\u001b[0maffine_linear_operator\u001b[0m \u001b[0;32mimport\u001b[0m \u001b[0mAffineLinearOperator\u001b[0m\u001b[0;34m\u001b[0m\u001b[0;34m\u001b[0m\u001b[0m\n",
      "\u001b[0;32m~/RansVirtualEnvs/Main3.5/lib/python3.6/site-packages/tensorflow_probability/python/bijectors/absolute_value.py\u001b[0m in \u001b[0;36m<module>\u001b[0;34m\u001b[0m\n\u001b[1;32m     21\u001b[0m \u001b[0;32mimport\u001b[0m \u001b[0mtensorflow\u001b[0m\u001b[0;34m.\u001b[0m\u001b[0mcompat\u001b[0m\u001b[0;34m.\u001b[0m\u001b[0mv2\u001b[0m \u001b[0;32mas\u001b[0m \u001b[0mtf\u001b[0m\u001b[0;34m\u001b[0m\u001b[0;34m\u001b[0m\u001b[0m\n\u001b[1;32m     22\u001b[0m \u001b[0;34m\u001b[0m\u001b[0m\n\u001b[0;32m---> 23\u001b[0;31m \u001b[0;32mfrom\u001b[0m \u001b[0mtensorflow_probability\u001b[0m\u001b[0;34m.\u001b[0m\u001b[0mpython\u001b[0m\u001b[0;34m.\u001b[0m\u001b[0mbijectors\u001b[0m \u001b[0;32mimport\u001b[0m \u001b[0mbijector\u001b[0m\u001b[0;34m\u001b[0m\u001b[0;34m\u001b[0m\u001b[0m\n\u001b[0m\u001b[1;32m     24\u001b[0m \u001b[0;32mfrom\u001b[0m \u001b[0mtensorflow_probability\u001b[0m\u001b[0;34m.\u001b[0m\u001b[0mpython\u001b[0m\u001b[0;34m.\u001b[0m\u001b[0minternal\u001b[0m \u001b[0;32mimport\u001b[0m \u001b[0massert_util\u001b[0m\u001b[0;34m\u001b[0m\u001b[0;34m\u001b[0m\u001b[0m\n\u001b[1;32m     25\u001b[0m \u001b[0;32mfrom\u001b[0m \u001b[0mtensorflow_probability\u001b[0m\u001b[0;34m.\u001b[0m\u001b[0mpython\u001b[0m\u001b[0;34m.\u001b[0m\u001b[0minternal\u001b[0m \u001b[0;32mimport\u001b[0m \u001b[0mauto_composite_tensor\u001b[0m\u001b[0;34m\u001b[0m\u001b[0;34m\u001b[0m\u001b[0m\n",
      "\u001b[0;32m~/RansVirtualEnvs/Main3.5/lib/python3.6/site-packages/tensorflow_probability/python/bijectors/bijector.py\u001b[0m in \u001b[0;36m<module>\u001b[0;34m\u001b[0m\n\u001b[1;32m     34\u001b[0m \u001b[0;32mfrom\u001b[0m \u001b[0mtensorflow_probability\u001b[0m\u001b[0;34m.\u001b[0m\u001b[0mpython\u001b[0m\u001b[0;34m.\u001b[0m\u001b[0minternal\u001b[0m \u001b[0;32mimport\u001b[0m \u001b[0mnest_util\u001b[0m\u001b[0;34m\u001b[0m\u001b[0;34m\u001b[0m\u001b[0m\n\u001b[1;32m     35\u001b[0m \u001b[0;32mfrom\u001b[0m \u001b[0mtensorflow_probability\u001b[0m\u001b[0;34m.\u001b[0m\u001b[0mpython\u001b[0m\u001b[0;34m.\u001b[0m\u001b[0minternal\u001b[0m \u001b[0;32mimport\u001b[0m \u001b[0mprefer_static\u001b[0m \u001b[0;32mas\u001b[0m \u001b[0mps\u001b[0m\u001b[0;34m\u001b[0m\u001b[0;34m\u001b[0m\u001b[0m\n\u001b[0;32m---> 36\u001b[0;31m \u001b[0;32mfrom\u001b[0m \u001b[0mtensorflow_probability\u001b[0m\u001b[0;34m.\u001b[0m\u001b[0mpython\u001b[0m\u001b[0;34m.\u001b[0m\u001b[0mmath\u001b[0m \u001b[0;32mimport\u001b[0m \u001b[0mgradient\u001b[0m\u001b[0;34m\u001b[0m\u001b[0;34m\u001b[0m\u001b[0m\n\u001b[0m\u001b[1;32m     37\u001b[0m \u001b[0;31m# pylint: disable=g-direct-tensorflow-import\u001b[0m\u001b[0;34m\u001b[0m\u001b[0;34m\u001b[0m\u001b[0;34m\u001b[0m\u001b[0m\n\u001b[1;32m     38\u001b[0m \u001b[0;32mfrom\u001b[0m \u001b[0mtensorflow\u001b[0m\u001b[0;34m.\u001b[0m\u001b[0mpython\u001b[0m\u001b[0;34m.\u001b[0m\u001b[0mutil\u001b[0m \u001b[0;32mimport\u001b[0m \u001b[0mdeprecation\u001b[0m\u001b[0;34m\u001b[0m\u001b[0;34m\u001b[0m\u001b[0m\n",
      "\u001b[0;32m~/RansVirtualEnvs/Main3.5/lib/python3.6/site-packages/tensorflow_probability/python/math/__init__.py\u001b[0m in \u001b[0;36m<module>\u001b[0;34m\u001b[0m\n\u001b[1;32m     21\u001b[0m \u001b[0;32mfrom\u001b[0m \u001b[0mtensorflow_probability\u001b[0m\u001b[0;34m.\u001b[0m\u001b[0mpython\u001b[0m\u001b[0;34m.\u001b[0m\u001b[0minternal\u001b[0m \u001b[0;32mimport\u001b[0m \u001b[0mall_util\u001b[0m\u001b[0;34m\u001b[0m\u001b[0;34m\u001b[0m\u001b[0m\n\u001b[1;32m     22\u001b[0m \u001b[0;32mfrom\u001b[0m \u001b[0mtensorflow_probability\u001b[0m\u001b[0;34m.\u001b[0m\u001b[0mpython\u001b[0m\u001b[0;34m.\u001b[0m\u001b[0mmath\u001b[0m \u001b[0;32mimport\u001b[0m \u001b[0mode\u001b[0m\u001b[0;34m\u001b[0m\u001b[0;34m\u001b[0m\u001b[0m\n\u001b[0;32m---> 23\u001b[0;31m \u001b[0;32mfrom\u001b[0m \u001b[0mtensorflow_probability\u001b[0m\u001b[0;34m.\u001b[0m\u001b[0mpython\u001b[0m\u001b[0;34m.\u001b[0m\u001b[0mmath\u001b[0m \u001b[0;32mimport\u001b[0m \u001b[0mpsd_kernels\u001b[0m\u001b[0;34m\u001b[0m\u001b[0;34m\u001b[0m\u001b[0m\n\u001b[0m\u001b[1;32m     24\u001b[0m \u001b[0;32mfrom\u001b[0m \u001b[0mtensorflow_probability\u001b[0m\u001b[0;34m.\u001b[0m\u001b[0mpython\u001b[0m\u001b[0;34m.\u001b[0m\u001b[0mmath\u001b[0m\u001b[0;34m.\u001b[0m\u001b[0mbessel\u001b[0m \u001b[0;32mimport\u001b[0m \u001b[0mbessel_iv_ratio\u001b[0m\u001b[0;34m\u001b[0m\u001b[0;34m\u001b[0m\u001b[0m\n\u001b[1;32m     25\u001b[0m \u001b[0;32mfrom\u001b[0m \u001b[0mtensorflow_probability\u001b[0m\u001b[0;34m.\u001b[0m\u001b[0mpython\u001b[0m\u001b[0;34m.\u001b[0m\u001b[0mmath\u001b[0m\u001b[0;34m.\u001b[0m\u001b[0mbessel\u001b[0m \u001b[0;32mimport\u001b[0m \u001b[0mbessel_ive\u001b[0m\u001b[0;34m\u001b[0m\u001b[0;34m\u001b[0m\u001b[0m\n",
      "\u001b[0;32m~/RansVirtualEnvs/Main3.5/lib/python3.6/site-packages/tensorflow_probability/python/math/psd_kernels/__init__.py\u001b[0m in \u001b[0;36m<module>\u001b[0;34m\u001b[0m\n\u001b[1;32m     25\u001b[0m \u001b[0;32mfrom\u001b[0m \u001b[0mtensorflow_probability\u001b[0m\u001b[0;34m.\u001b[0m\u001b[0mpython\u001b[0m\u001b[0;34m.\u001b[0m\u001b[0mmath\u001b[0m\u001b[0;34m.\u001b[0m\u001b[0mpsd_kernels\u001b[0m\u001b[0;34m.\u001b[0m\u001b[0mfeature_transformed\u001b[0m \u001b[0;32mimport\u001b[0m \u001b[0mFeatureTransformed\u001b[0m\u001b[0;34m\u001b[0m\u001b[0;34m\u001b[0m\u001b[0m\n\u001b[1;32m     26\u001b[0m \u001b[0;32mfrom\u001b[0m \u001b[0mtensorflow_probability\u001b[0m\u001b[0;34m.\u001b[0m\u001b[0mpython\u001b[0m\u001b[0;34m.\u001b[0m\u001b[0mmath\u001b[0m\u001b[0;34m.\u001b[0m\u001b[0mpsd_kernels\u001b[0m\u001b[0;34m.\u001b[0m\u001b[0mkumaraswamy_transformed\u001b[0m \u001b[0;32mimport\u001b[0m \u001b[0mKumaraswamyTransformed\u001b[0m\u001b[0;34m\u001b[0m\u001b[0;34m\u001b[0m\u001b[0m\n\u001b[0;32m---> 27\u001b[0;31m \u001b[0;32mfrom\u001b[0m \u001b[0mtensorflow_probability\u001b[0m\u001b[0;34m.\u001b[0m\u001b[0mpython\u001b[0m\u001b[0;34m.\u001b[0m\u001b[0mmath\u001b[0m\u001b[0;34m.\u001b[0m\u001b[0mpsd_kernels\u001b[0m\u001b[0;34m.\u001b[0m\u001b[0mmatern\u001b[0m \u001b[0;32mimport\u001b[0m \u001b[0mGeneralizedMatern\u001b[0m\u001b[0;34m\u001b[0m\u001b[0;34m\u001b[0m\u001b[0m\n\u001b[0m\u001b[1;32m     28\u001b[0m \u001b[0;32mfrom\u001b[0m \u001b[0mtensorflow_probability\u001b[0m\u001b[0;34m.\u001b[0m\u001b[0mpython\u001b[0m\u001b[0;34m.\u001b[0m\u001b[0mmath\u001b[0m\u001b[0;34m.\u001b[0m\u001b[0mpsd_kernels\u001b[0m\u001b[0;34m.\u001b[0m\u001b[0mmatern\u001b[0m \u001b[0;32mimport\u001b[0m \u001b[0mMaternFiveHalves\u001b[0m\u001b[0;34m\u001b[0m\u001b[0;34m\u001b[0m\u001b[0m\n\u001b[1;32m     29\u001b[0m \u001b[0;32mfrom\u001b[0m \u001b[0mtensorflow_probability\u001b[0m\u001b[0;34m.\u001b[0m\u001b[0mpython\u001b[0m\u001b[0;34m.\u001b[0m\u001b[0mmath\u001b[0m\u001b[0;34m.\u001b[0m\u001b[0mpsd_kernels\u001b[0m\u001b[0;34m.\u001b[0m\u001b[0mmatern\u001b[0m \u001b[0;32mimport\u001b[0m \u001b[0mMaternOneHalf\u001b[0m\u001b[0;34m\u001b[0m\u001b[0;34m\u001b[0m\u001b[0m\n",
      "\u001b[0;32m~/RansVirtualEnvs/Main3.5/lib/python3.6/site-packages/tensorflow_probability/python/math/psd_kernels/matern.py\u001b[0m in \u001b[0;36m<module>\u001b[0;34m\u001b[0m\n\u001b[1;32m     25\u001b[0m \u001b[0;32mfrom\u001b[0m \u001b[0mtensorflow_probability\u001b[0m\u001b[0;34m.\u001b[0m\u001b[0mpython\u001b[0m\u001b[0;34m.\u001b[0m\u001b[0minternal\u001b[0m \u001b[0;32mimport\u001b[0m \u001b[0mdtype_util\u001b[0m\u001b[0;34m\u001b[0m\u001b[0;34m\u001b[0m\u001b[0m\n\u001b[1;32m     26\u001b[0m \u001b[0;32mfrom\u001b[0m \u001b[0mtensorflow_probability\u001b[0m\u001b[0;34m.\u001b[0m\u001b[0mpython\u001b[0m\u001b[0;34m.\u001b[0m\u001b[0minternal\u001b[0m \u001b[0;32mimport\u001b[0m \u001b[0mtensor_util\u001b[0m\u001b[0;34m\u001b[0m\u001b[0;34m\u001b[0m\u001b[0m\n\u001b[0;32m---> 27\u001b[0;31m \u001b[0;32mfrom\u001b[0m \u001b[0mtensorflow_probability\u001b[0m\u001b[0;34m.\u001b[0m\u001b[0mpython\u001b[0m\u001b[0;34m.\u001b[0m\u001b[0mmath\u001b[0m \u001b[0;32mimport\u001b[0m \u001b[0mbessel\u001b[0m \u001b[0;32mas\u001b[0m \u001b[0mtfp_math\u001b[0m\u001b[0;34m\u001b[0m\u001b[0;34m\u001b[0m\u001b[0m\n\u001b[0m\u001b[1;32m     28\u001b[0m \u001b[0;32mfrom\u001b[0m \u001b[0mtensorflow_probability\u001b[0m\u001b[0;34m.\u001b[0m\u001b[0mpython\u001b[0m\u001b[0;34m.\u001b[0m\u001b[0mmath\u001b[0m\u001b[0;34m.\u001b[0m\u001b[0mpsd_kernels\u001b[0m\u001b[0;34m.\u001b[0m\u001b[0minternal\u001b[0m \u001b[0;32mimport\u001b[0m \u001b[0mutil\u001b[0m\u001b[0;34m\u001b[0m\u001b[0;34m\u001b[0m\u001b[0m\n\u001b[1;32m     29\u001b[0m \u001b[0;32mfrom\u001b[0m \u001b[0mtensorflow_probability\u001b[0m\u001b[0;34m.\u001b[0m\u001b[0mpython\u001b[0m\u001b[0;34m.\u001b[0m\u001b[0mmath\u001b[0m\u001b[0;34m.\u001b[0m\u001b[0mpsd_kernels\u001b[0m\u001b[0;34m.\u001b[0m\u001b[0mpositive_semidefinite_kernel\u001b[0m \u001b[0;32mimport\u001b[0m \u001b[0mPositiveSemidefiniteKernel\u001b[0m\u001b[0;34m\u001b[0m\u001b[0;34m\u001b[0m\u001b[0m\n",
      "\u001b[0;32m~/RansVirtualEnvs/Main3.5/lib/python3.6/site-packages/tensorflow_probability/python/math/bessel.py\u001b[0m in \u001b[0;36m<module>\u001b[0;34m\u001b[0m\n\u001b[1;32m     27\u001b[0m \u001b[0;32mfrom\u001b[0m \u001b[0mtensorflow_probability\u001b[0m\u001b[0;34m.\u001b[0m\u001b[0mpython\u001b[0m\u001b[0;34m.\u001b[0m\u001b[0minternal\u001b[0m \u001b[0;32mimport\u001b[0m \u001b[0mprefer_static\u001b[0m \u001b[0;32mas\u001b[0m \u001b[0mps\u001b[0m\u001b[0;34m\u001b[0m\u001b[0;34m\u001b[0m\u001b[0m\n\u001b[1;32m     28\u001b[0m \u001b[0;32mfrom\u001b[0m \u001b[0mtensorflow_probability\u001b[0m\u001b[0;34m.\u001b[0m\u001b[0mpython\u001b[0m\u001b[0;34m.\u001b[0m\u001b[0minternal\u001b[0m \u001b[0;32mimport\u001b[0m \u001b[0mtensorshape_util\u001b[0m\u001b[0;34m\u001b[0m\u001b[0;34m\u001b[0m\u001b[0m\n\u001b[0;32m---> 29\u001b[0;31m \u001b[0;32mfrom\u001b[0m \u001b[0mtensorflow_probability\u001b[0m\u001b[0;34m.\u001b[0m\u001b[0mpython\u001b[0m\u001b[0;34m.\u001b[0m\u001b[0mmath\u001b[0m \u001b[0;32mimport\u001b[0m \u001b[0mgeneric\u001b[0m \u001b[0;32mas\u001b[0m \u001b[0mtfp_math\u001b[0m\u001b[0;34m\u001b[0m\u001b[0;34m\u001b[0m\u001b[0m\n\u001b[0m\u001b[1;32m     30\u001b[0m \u001b[0;34m\u001b[0m\u001b[0m\n\u001b[1;32m     31\u001b[0m \u001b[0;34m\u001b[0m\u001b[0m\n",
      "\u001b[0;32m~/RansVirtualEnvs/Main3.5/lib/python3.6/site-packages/tensorflow_probability/python/math/generic.py\u001b[0m in \u001b[0;36m<module>\u001b[0;34m\u001b[0m\n\u001b[1;32m    150\u001b[0m \u001b[0;34m\u001b[0m\u001b[0m\n\u001b[1;32m    151\u001b[0m _reduce_kahan_sum = variadic_reduce.make_variadic_reduce(\n\u001b[0;32m--> 152\u001b[0;31m     _kahan_reduction, _kahan_reduce_bwd, _kahan_reduce_tangents)\n\u001b[0m\u001b[1;32m    153\u001b[0m \u001b[0;34m\u001b[0m\u001b[0m\n\u001b[1;32m    154\u001b[0m \u001b[0;34m\u001b[0m\u001b[0m\n",
      "\u001b[0;32m~/RansVirtualEnvs/Main3.5/lib/python3.6/site-packages/tensorflow_probability/python/internal/variadic_reduce.py\u001b[0m in \u001b[0;36mmake_variadic_reduce\u001b[0;34m(reducer, vjp_bwd, tangents_fn)\u001b[0m\n\u001b[1;32m    120\u001b[0m   \u001b[0;31m# Top-level `tf.function` for XLA (closed-over by the returned reduce_fn).\u001b[0m\u001b[0;34m\u001b[0m\u001b[0;34m\u001b[0m\u001b[0;34m\u001b[0m\u001b[0m\n\u001b[1;32m    121\u001b[0m   \u001b[0;34m@\u001b[0m\u001b[0mimplementation_selection\u001b[0m\u001b[0;34m.\u001b[0m\u001b[0mnever_runs_functions_eagerly\u001b[0m\u001b[0;34m\u001b[0m\u001b[0;34m\u001b[0m\u001b[0m\n\u001b[0;32m--> 122\u001b[0;31m   \u001b[0;34m@\u001b[0m\u001b[0mtf\u001b[0m\u001b[0;34m.\u001b[0m\u001b[0mfunction\u001b[0m\u001b[0;34m(\u001b[0m\u001b[0mjit_compile\u001b[0m\u001b[0;34m=\u001b[0m\u001b[0;32mTrue\u001b[0m\u001b[0;34m)\u001b[0m\u001b[0;34m\u001b[0m\u001b[0;34m\u001b[0m\u001b[0m\n\u001b[0m\u001b[1;32m    123\u001b[0m   \u001b[0;32mdef\u001b[0m \u001b[0m_xla_reduce\u001b[0m\u001b[0;34m(\u001b[0m\u001b[0moperands\u001b[0m\u001b[0;34m,\u001b[0m \u001b[0minits\u001b[0m\u001b[0;34m,\u001b[0m \u001b[0maxis\u001b[0m\u001b[0;34m)\u001b[0m\u001b[0;34m:\u001b[0m\u001b[0;34m\u001b[0m\u001b[0;34m\u001b[0m\u001b[0m\n\u001b[1;32m    124\u001b[0m     \u001b[0;34m\"\"\"JIT-ed wrapper for TF `xla.variadic_reduce(..., reducer)`.\"\"\"\u001b[0m\u001b[0;34m\u001b[0m\u001b[0;34m\u001b[0m\u001b[0m\n",
      "\u001b[0;31mTypeError\u001b[0m: function() got an unexpected keyword argument 'jit_compile'"
     ]
    }
   ],
   "source": [
    "from WUT.Dropout import Dropout\n",
    "\n",
    "regmodel = Dropout(RegModel, 0.2, dropout_layers = [tf.keras.layers.Dense])\n",
    "regmodel.compile(optimizer = tf.keras.optimizers.Adam(), loss = tf.keras.losses.MSE)\n",
    "regmodel.fit(Xreg, Yreg)\n",
    "print(regmodel.evaluate(Xreg[0:5], Yreg[0:5]) )\n",
    "print(regmodel.predict(Xreg[0:5], trials = 2))\n",
    "\n",
    "\n",
    "\n",
    "\n",
    "\n",
    "\n",
    "\n",
    "classmodel = Dropout(ClassModel, 0.2)\n",
    "classmodel.compile(optimizer = tf.keras.optimizers.Adam(), loss = tf.keras.losses.CategoricalCrossentropy())\n",
    "classmodel.fit(Xclass, Yclass)\n",
    "print(classmodel.evaluate(Xclass[0:5], Yclass[0:5]))\n",
    "print(classmodel.predict(Xclass[0:5], trials = 2) )\n",
    "\n",
    "\n",
    "\n",
    "\n"
   ]
  },
  {
   "cell_type": "markdown",
   "metadata": {
    "id": "kj1DOY96ErBQ"
   },
   "source": [
    "Or, you could simply throw an additional network to predict error, as a regression\n",
    "\n",
    "(extra args:\n",
    "\n",
    "Std_Model: The model to predict variance. Defaults to a clone of input model, with activation on last layer removed)\n",
    "\n",
    "error_activation: What to replace the activation on last layer with for the Std_Model. Defaults to None\n",
    "\n",
    "one_hot: If true, will assume target values have already been converted to one_hot variables, and will not do it manually. Defaults to True.)\n",
    "\n",
    "\n",
    "The output will now be simple predicted mean and variance."
   ]
  },
  {
   "cell_type": "code",
   "execution_count": null,
   "metadata": {
    "id": "IILws3LyErBQ",
    "outputId": "46bba40d-00f0-4e94-db1b-a4f5a4f17c29"
   },
   "outputs": [
    {
     "ename": "TypeError",
     "evalue": "function() got an unexpected keyword argument 'jit_compile'",
     "output_type": "error",
     "traceback": [
      "\u001b[0;31m---------------------------------------------------------------------------\u001b[0m",
      "\u001b[0;31mTypeError\u001b[0m                                 Traceback (most recent call last)",
      "\u001b[0;32m<ipython-input-7-fe6f343497a9>\u001b[0m in \u001b[0;36m<module>\u001b[0;34m\u001b[0m\n\u001b[0;32m----> 1\u001b[0;31m \u001b[0;32mfrom\u001b[0m \u001b[0mWUT\u001b[0m\u001b[0;34m.\u001b[0m\u001b[0mVariance_Network\u001b[0m \u001b[0;32mimport\u001b[0m \u001b[0mVariance_Network\u001b[0m\u001b[0;34m\u001b[0m\u001b[0;34m\u001b[0m\u001b[0m\n\u001b[0m\u001b[1;32m      2\u001b[0m \u001b[0;34m\u001b[0m\u001b[0m\n\u001b[1;32m      3\u001b[0m \u001b[0mregmodel\u001b[0m \u001b[0;34m=\u001b[0m \u001b[0mVariance_Network\u001b[0m\u001b[0;34m(\u001b[0m\u001b[0mRegModel\u001b[0m\u001b[0;34m)\u001b[0m\u001b[0;34m\u001b[0m\u001b[0;34m\u001b[0m\u001b[0m\n\u001b[1;32m      4\u001b[0m \u001b[0mregmodel\u001b[0m\u001b[0;34m.\u001b[0m\u001b[0mcompile\u001b[0m\u001b[0;34m(\u001b[0m\u001b[0moptimizer\u001b[0m \u001b[0;34m=\u001b[0m \u001b[0mtf\u001b[0m\u001b[0;34m.\u001b[0m\u001b[0mkeras\u001b[0m\u001b[0;34m.\u001b[0m\u001b[0moptimizers\u001b[0m\u001b[0;34m.\u001b[0m\u001b[0mAdam\u001b[0m\u001b[0;34m(\u001b[0m\u001b[0;34m)\u001b[0m\u001b[0;34m,\u001b[0m \u001b[0mloss\u001b[0m \u001b[0;34m=\u001b[0m \u001b[0mtf\u001b[0m\u001b[0;34m.\u001b[0m\u001b[0mkeras\u001b[0m\u001b[0;34m.\u001b[0m\u001b[0mlosses\u001b[0m\u001b[0;34m.\u001b[0m\u001b[0mMSE\u001b[0m\u001b[0;34m)\u001b[0m\u001b[0;34m\u001b[0m\u001b[0;34m\u001b[0m\u001b[0m\n\u001b[1;32m      5\u001b[0m \u001b[0mregmodel\u001b[0m\u001b[0;34m.\u001b[0m\u001b[0mfit\u001b[0m\u001b[0;34m(\u001b[0m\u001b[0mXreg\u001b[0m\u001b[0;34m,\u001b[0m \u001b[0mYreg\u001b[0m\u001b[0;34m)\u001b[0m\u001b[0;34m\u001b[0m\u001b[0;34m\u001b[0m\u001b[0m\n",
      "\u001b[0;32m~/PycharmProjects/Stanford/WUT/WUT/WUT/Variance_Network.py\u001b[0m in \u001b[0;36m<module>\u001b[0;34m\u001b[0m\n\u001b[1;32m      3\u001b[0m \u001b[0;32mimport\u001b[0m \u001b[0mtypes\u001b[0m\u001b[0;34m\u001b[0m\u001b[0;34m\u001b[0m\u001b[0m\n\u001b[1;32m      4\u001b[0m \u001b[0;32mfrom\u001b[0m \u001b[0mtensorflow\u001b[0m\u001b[0;34m.\u001b[0m\u001b[0mpython\u001b[0m\u001b[0;34m.\u001b[0m\u001b[0mkeras\u001b[0m\u001b[0;34m.\u001b[0m\u001b[0mlayers\u001b[0m\u001b[0;34m.\u001b[0m\u001b[0mops\u001b[0m \u001b[0;32mimport\u001b[0m \u001b[0mcore\u001b[0m \u001b[0;32mas\u001b[0m \u001b[0mcore_ops\u001b[0m\u001b[0;34m\u001b[0m\u001b[0;34m\u001b[0m\u001b[0m\n\u001b[0;32m----> 5\u001b[0;31m \u001b[0;32mimport\u001b[0m \u001b[0mmdn\u001b[0m\u001b[0;34m\u001b[0m\u001b[0;34m\u001b[0m\u001b[0m\n\u001b[0m\u001b[1;32m      6\u001b[0m \u001b[0;32mfrom\u001b[0m \u001b[0mtensorflow\u001b[0m\u001b[0;34m.\u001b[0m\u001b[0mcompat\u001b[0m\u001b[0;34m.\u001b[0m\u001b[0mv1\u001b[0m\u001b[0;34m.\u001b[0m\u001b[0mkeras\u001b[0m \u001b[0;32mimport\u001b[0m \u001b[0mlayers\u001b[0m\u001b[0;34m\u001b[0m\u001b[0;34m\u001b[0m\u001b[0m\n\u001b[1;32m      7\u001b[0m \u001b[0;32mfrom\u001b[0m \u001b[0mtensorflow\u001b[0m\u001b[0;34m.\u001b[0m\u001b[0mpython\u001b[0m\u001b[0;34m.\u001b[0m\u001b[0mkeras\u001b[0m \u001b[0;32mimport\u001b[0m \u001b[0mactivations\u001b[0m\u001b[0;34m\u001b[0m\u001b[0;34m\u001b[0m\u001b[0m\n",
      "\u001b[0;32m~/RansVirtualEnvs/Main3.5/lib/python3.6/site-packages/mdn/__init__.py\u001b[0m in \u001b[0;36m<module>\u001b[0;34m\u001b[0m\n\u001b[1;32m     15\u001b[0m \u001b[0;32mimport\u001b[0m \u001b[0mnumpy\u001b[0m \u001b[0;32mas\u001b[0m \u001b[0mnp\u001b[0m\u001b[0;34m\u001b[0m\u001b[0;34m\u001b[0m\u001b[0m\n\u001b[1;32m     16\u001b[0m \u001b[0;32mimport\u001b[0m \u001b[0mtensorflow\u001b[0m\u001b[0;34m.\u001b[0m\u001b[0mcompat\u001b[0m\u001b[0;34m.\u001b[0m\u001b[0mv1\u001b[0m \u001b[0;32mas\u001b[0m \u001b[0mtf\u001b[0m\u001b[0;34m\u001b[0m\u001b[0;34m\u001b[0m\u001b[0m\n\u001b[0;32m---> 17\u001b[0;31m \u001b[0;32mfrom\u001b[0m \u001b[0mtensorflow_probability\u001b[0m \u001b[0;32mimport\u001b[0m \u001b[0mdistributions\u001b[0m \u001b[0;32mas\u001b[0m \u001b[0mtfd\u001b[0m\u001b[0;34m\u001b[0m\u001b[0;34m\u001b[0m\u001b[0m\n\u001b[0m\u001b[1;32m     18\u001b[0m \u001b[0;34m\u001b[0m\u001b[0m\n\u001b[1;32m     19\u001b[0m \u001b[0;34m\u001b[0m\u001b[0m\n",
      "\u001b[0;32m~/RansVirtualEnvs/Main3.5/lib/python3.6/site-packages/tensorflow_probability/__init__.py\u001b[0m in \u001b[0;36m<module>\u001b[0;34m\u001b[0m\n\u001b[1;32m     21\u001b[0m \u001b[0;31m# from tensorflow_probability.google import staging  # DisableOnExport\u001b[0m\u001b[0;34m\u001b[0m\u001b[0;34m\u001b[0m\u001b[0;34m\u001b[0m\u001b[0m\n\u001b[1;32m     22\u001b[0m \u001b[0;31m# from tensorflow_probability.google import tfp_google  # DisableOnExport\u001b[0m\u001b[0;34m\u001b[0m\u001b[0;34m\u001b[0m\u001b[0;34m\u001b[0m\u001b[0m\n\u001b[0;32m---> 23\u001b[0;31m \u001b[0;32mfrom\u001b[0m \u001b[0mtensorflow_probability\u001b[0m\u001b[0;34m.\u001b[0m\u001b[0mpython\u001b[0m \u001b[0;32mimport\u001b[0m \u001b[0;34m*\u001b[0m  \u001b[0;31m# pylint: disable=wildcard-import\u001b[0m\u001b[0;34m\u001b[0m\u001b[0;34m\u001b[0m\u001b[0m\n\u001b[0m\u001b[1;32m     24\u001b[0m \u001b[0;32mfrom\u001b[0m \u001b[0mtensorflow_probability\u001b[0m\u001b[0;34m.\u001b[0m\u001b[0mpython\u001b[0m\u001b[0;34m.\u001b[0m\u001b[0mversion\u001b[0m \u001b[0;32mimport\u001b[0m \u001b[0m__version__\u001b[0m\u001b[0;34m\u001b[0m\u001b[0;34m\u001b[0m\u001b[0m\n\u001b[1;32m     25\u001b[0m \u001b[0;34m\u001b[0m\u001b[0m\n",
      "\u001b[0;32m~/RansVirtualEnvs/Main3.5/lib/python3.6/site-packages/tensorflow_probability/python/__init__.py\u001b[0m in \u001b[0;36m<module>\u001b[0;34m\u001b[0m\n\u001b[1;32m    140\u001b[0m   \u001b[0;31m# Non-lazy load of packages that register with tensorflow or keras.\u001b[0m\u001b[0;34m\u001b[0m\u001b[0;34m\u001b[0m\u001b[0;34m\u001b[0m\u001b[0m\n\u001b[1;32m    141\u001b[0m   \u001b[0;32mfor\u001b[0m \u001b[0mpkg_name\u001b[0m \u001b[0;32min\u001b[0m \u001b[0m_maybe_nonlazy_load\u001b[0m\u001b[0;34m:\u001b[0m\u001b[0;34m\u001b[0m\u001b[0;34m\u001b[0m\u001b[0m\n\u001b[0;32m--> 142\u001b[0;31m     \u001b[0mdir\u001b[0m\u001b[0;34m(\u001b[0m\u001b[0mglobals\u001b[0m\u001b[0;34m(\u001b[0m\u001b[0;34m)\u001b[0m\u001b[0;34m[\u001b[0m\u001b[0mpkg_name\u001b[0m\u001b[0;34m]\u001b[0m\u001b[0;34m)\u001b[0m  \u001b[0;31m# Forces loading the package from its lazy loader.\u001b[0m\u001b[0;34m\u001b[0m\u001b[0;34m\u001b[0m\u001b[0m\n\u001b[0m\u001b[1;32m    143\u001b[0m \u001b[0;34m\u001b[0m\u001b[0m\n\u001b[1;32m    144\u001b[0m \u001b[0;34m\u001b[0m\u001b[0m\n",
      "\u001b[0;32m~/RansVirtualEnvs/Main3.5/lib/python3.6/site-packages/tensorflow_probability/python/internal/lazy_loader.py\u001b[0m in \u001b[0;36m__dir__\u001b[0;34m(self)\u001b[0m\n\u001b[1;32m     59\u001b[0m \u001b[0;34m\u001b[0m\u001b[0m\n\u001b[1;32m     60\u001b[0m   \u001b[0;32mdef\u001b[0m \u001b[0m__dir__\u001b[0m\u001b[0;34m(\u001b[0m\u001b[0mself\u001b[0m\u001b[0;34m)\u001b[0m\u001b[0;34m:\u001b[0m\u001b[0;34m\u001b[0m\u001b[0;34m\u001b[0m\u001b[0m\n\u001b[0;32m---> 61\u001b[0;31m     \u001b[0mmodule\u001b[0m \u001b[0;34m=\u001b[0m \u001b[0mself\u001b[0m\u001b[0;34m.\u001b[0m\u001b[0m_load\u001b[0m\u001b[0;34m(\u001b[0m\u001b[0;34m)\u001b[0m\u001b[0;34m\u001b[0m\u001b[0;34m\u001b[0m\u001b[0m\n\u001b[0m\u001b[1;32m     62\u001b[0m     \u001b[0;32mreturn\u001b[0m \u001b[0mdir\u001b[0m\u001b[0;34m(\u001b[0m\u001b[0mmodule\u001b[0m\u001b[0;34m)\u001b[0m\u001b[0;34m\u001b[0m\u001b[0;34m\u001b[0m\u001b[0m\n\u001b[1;32m     63\u001b[0m \u001b[0;34m\u001b[0m\u001b[0m\n",
      "\u001b[0;32m~/RansVirtualEnvs/Main3.5/lib/python3.6/site-packages/tensorflow_probability/python/internal/lazy_loader.py\u001b[0m in \u001b[0;36m_load\u001b[0;34m(self)\u001b[0m\n\u001b[1;32m     42\u001b[0m       \u001b[0mself\u001b[0m\u001b[0;34m.\u001b[0m\u001b[0m_on_first_access\u001b[0m \u001b[0;34m=\u001b[0m \u001b[0;32mNone\u001b[0m\u001b[0;34m\u001b[0m\u001b[0;34m\u001b[0m\u001b[0m\n\u001b[1;32m     43\u001b[0m     \u001b[0;31m# Import the target module and insert it into the parent's namespace\u001b[0m\u001b[0;34m\u001b[0m\u001b[0;34m\u001b[0m\u001b[0;34m\u001b[0m\u001b[0m\n\u001b[0;32m---> 44\u001b[0;31m     \u001b[0mmodule\u001b[0m \u001b[0;34m=\u001b[0m \u001b[0mimportlib\u001b[0m\u001b[0;34m.\u001b[0m\u001b[0mimport_module\u001b[0m\u001b[0;34m(\u001b[0m\u001b[0mself\u001b[0m\u001b[0;34m.\u001b[0m\u001b[0m__name__\u001b[0m\u001b[0;34m)\u001b[0m\u001b[0;34m\u001b[0m\u001b[0;34m\u001b[0m\u001b[0m\n\u001b[0m\u001b[1;32m     45\u001b[0m     \u001b[0;32mif\u001b[0m \u001b[0mself\u001b[0m\u001b[0;34m.\u001b[0m\u001b[0m_parent_module_globals\u001b[0m \u001b[0;32mis\u001b[0m \u001b[0;32mnot\u001b[0m \u001b[0;32mNone\u001b[0m\u001b[0;34m:\u001b[0m\u001b[0;34m\u001b[0m\u001b[0;34m\u001b[0m\u001b[0m\n\u001b[1;32m     46\u001b[0m       \u001b[0mself\u001b[0m\u001b[0;34m.\u001b[0m\u001b[0m_parent_module_globals\u001b[0m\u001b[0;34m[\u001b[0m\u001b[0mself\u001b[0m\u001b[0;34m.\u001b[0m\u001b[0m_local_name\u001b[0m\u001b[0;34m]\u001b[0m \u001b[0;34m=\u001b[0m \u001b[0mmodule\u001b[0m\u001b[0;34m\u001b[0m\u001b[0;34m\u001b[0m\u001b[0m\n",
      "\u001b[0;32m~/RansVirtualEnvs/Main3.5/lib/python3.6/importlib/__init__.py\u001b[0m in \u001b[0;36mimport_module\u001b[0;34m(name, package)\u001b[0m\n\u001b[1;32m    124\u001b[0m                 \u001b[0;32mbreak\u001b[0m\u001b[0;34m\u001b[0m\u001b[0;34m\u001b[0m\u001b[0m\n\u001b[1;32m    125\u001b[0m             \u001b[0mlevel\u001b[0m \u001b[0;34m+=\u001b[0m \u001b[0;36m1\u001b[0m\u001b[0;34m\u001b[0m\u001b[0;34m\u001b[0m\u001b[0m\n\u001b[0;32m--> 126\u001b[0;31m     \u001b[0;32mreturn\u001b[0m \u001b[0m_bootstrap\u001b[0m\u001b[0;34m.\u001b[0m\u001b[0m_gcd_import\u001b[0m\u001b[0;34m(\u001b[0m\u001b[0mname\u001b[0m\u001b[0;34m[\u001b[0m\u001b[0mlevel\u001b[0m\u001b[0;34m:\u001b[0m\u001b[0;34m]\u001b[0m\u001b[0;34m,\u001b[0m \u001b[0mpackage\u001b[0m\u001b[0;34m,\u001b[0m \u001b[0mlevel\u001b[0m\u001b[0;34m)\u001b[0m\u001b[0;34m\u001b[0m\u001b[0;34m\u001b[0m\u001b[0m\n\u001b[0m\u001b[1;32m    127\u001b[0m \u001b[0;34m\u001b[0m\u001b[0m\n\u001b[1;32m    128\u001b[0m \u001b[0;34m\u001b[0m\u001b[0m\n",
      "\u001b[0;32m~/RansVirtualEnvs/Main3.5/lib/python3.6/site-packages/tensorflow_probability/python/experimental/__init__.py\u001b[0m in \u001b[0;36m<module>\u001b[0;34m\u001b[0m\n\u001b[1;32m     33\u001b[0m \u001b[0;34m\u001b[0m\u001b[0m\n\u001b[1;32m     34\u001b[0m \u001b[0;32mfrom\u001b[0m \u001b[0mtensorflow_probability\u001b[0m\u001b[0;34m.\u001b[0m\u001b[0mpython\u001b[0m\u001b[0;34m.\u001b[0m\u001b[0mexperimental\u001b[0m \u001b[0;32mimport\u001b[0m \u001b[0mauto_batching\u001b[0m\u001b[0;34m\u001b[0m\u001b[0;34m\u001b[0m\u001b[0m\n\u001b[0;32m---> 35\u001b[0;31m \u001b[0;32mfrom\u001b[0m \u001b[0mtensorflow_probability\u001b[0m\u001b[0;34m.\u001b[0m\u001b[0mpython\u001b[0m\u001b[0;34m.\u001b[0m\u001b[0mexperimental\u001b[0m \u001b[0;32mimport\u001b[0m \u001b[0mbijectors\u001b[0m\u001b[0;34m\u001b[0m\u001b[0;34m\u001b[0m\u001b[0m\n\u001b[0m\u001b[1;32m     36\u001b[0m \u001b[0;32mfrom\u001b[0m \u001b[0mtensorflow_probability\u001b[0m\u001b[0;34m.\u001b[0m\u001b[0mpython\u001b[0m\u001b[0;34m.\u001b[0m\u001b[0mexperimental\u001b[0m \u001b[0;32mimport\u001b[0m \u001b[0mdistribute\u001b[0m\u001b[0;34m\u001b[0m\u001b[0;34m\u001b[0m\u001b[0m\n\u001b[1;32m     37\u001b[0m \u001b[0;32mfrom\u001b[0m \u001b[0mtensorflow_probability\u001b[0m\u001b[0;34m.\u001b[0m\u001b[0mpython\u001b[0m\u001b[0;34m.\u001b[0m\u001b[0mexperimental\u001b[0m \u001b[0;32mimport\u001b[0m \u001b[0mdistributions\u001b[0m\u001b[0;34m\u001b[0m\u001b[0;34m\u001b[0m\u001b[0m\n",
      "\u001b[0;32m~/RansVirtualEnvs/Main3.5/lib/python3.6/site-packages/tensorflow_probability/python/experimental/bijectors/__init__.py\u001b[0m in \u001b[0;36m<module>\u001b[0;34m\u001b[0m\n\u001b[1;32m     15\u001b[0m \u001b[0;34m\"\"\"TensorFlow Probability experimental bijectors package.\"\"\"\u001b[0m\u001b[0;34m\u001b[0m\u001b[0;34m\u001b[0m\u001b[0m\n\u001b[1;32m     16\u001b[0m \u001b[0;34m\u001b[0m\u001b[0m\n\u001b[0;32m---> 17\u001b[0;31m \u001b[0;32mfrom\u001b[0m \u001b[0mtensorflow_probability\u001b[0m\u001b[0;34m.\u001b[0m\u001b[0mpython\u001b[0m\u001b[0;34m.\u001b[0m\u001b[0mbijectors\u001b[0m\u001b[0;34m.\u001b[0m\u001b[0mldj_ratio\u001b[0m \u001b[0;32mimport\u001b[0m \u001b[0mforward_log_det_jacobian_ratio\u001b[0m\u001b[0;34m\u001b[0m\u001b[0;34m\u001b[0m\u001b[0m\n\u001b[0m\u001b[1;32m     18\u001b[0m \u001b[0;32mfrom\u001b[0m \u001b[0mtensorflow_probability\u001b[0m\u001b[0;34m.\u001b[0m\u001b[0mpython\u001b[0m\u001b[0;34m.\u001b[0m\u001b[0mbijectors\u001b[0m\u001b[0;34m.\u001b[0m\u001b[0mldj_ratio\u001b[0m \u001b[0;32mimport\u001b[0m \u001b[0minverse_log_det_jacobian_ratio\u001b[0m\u001b[0;34m\u001b[0m\u001b[0;34m\u001b[0m\u001b[0m\n\u001b[1;32m     19\u001b[0m \u001b[0;32mfrom\u001b[0m \u001b[0mtensorflow_probability\u001b[0m\u001b[0;34m.\u001b[0m\u001b[0mpython\u001b[0m\u001b[0;34m.\u001b[0m\u001b[0mexperimental\u001b[0m\u001b[0;34m.\u001b[0m\u001b[0mbijectors\u001b[0m\u001b[0;34m.\u001b[0m\u001b[0mdistribution_bijectors\u001b[0m \u001b[0;32mimport\u001b[0m \u001b[0mmake_distribution_bijector\u001b[0m\u001b[0;34m\u001b[0m\u001b[0;34m\u001b[0m\u001b[0m\n",
      "\u001b[0;32m~/RansVirtualEnvs/Main3.5/lib/python3.6/site-packages/tensorflow_probability/python/bijectors/__init__.py\u001b[0m in \u001b[0;36m<module>\u001b[0;34m\u001b[0m\n\u001b[1;32m     21\u001b[0m \u001b[0;31m# pylint: disable=unused-import,wildcard-import,line-too-long,g-importing-member\u001b[0m\u001b[0;34m\u001b[0m\u001b[0;34m\u001b[0m\u001b[0;34m\u001b[0m\u001b[0m\n\u001b[1;32m     22\u001b[0m \u001b[0;34m\u001b[0m\u001b[0m\n\u001b[0;32m---> 23\u001b[0;31m \u001b[0;32mfrom\u001b[0m \u001b[0mtensorflow_probability\u001b[0m\u001b[0;34m.\u001b[0m\u001b[0mpython\u001b[0m\u001b[0;34m.\u001b[0m\u001b[0mbijectors\u001b[0m\u001b[0;34m.\u001b[0m\u001b[0mabsolute_value\u001b[0m \u001b[0;32mimport\u001b[0m \u001b[0mAbsoluteValue\u001b[0m\u001b[0;34m\u001b[0m\u001b[0;34m\u001b[0m\u001b[0m\n\u001b[0m\u001b[1;32m     24\u001b[0m \u001b[0;32mfrom\u001b[0m \u001b[0mtensorflow_probability\u001b[0m\u001b[0;34m.\u001b[0m\u001b[0mpython\u001b[0m\u001b[0;34m.\u001b[0m\u001b[0mbijectors\u001b[0m\u001b[0;34m.\u001b[0m\u001b[0maffine\u001b[0m \u001b[0;32mimport\u001b[0m \u001b[0mAffine\u001b[0m\u001b[0;34m\u001b[0m\u001b[0;34m\u001b[0m\u001b[0m\n\u001b[1;32m     25\u001b[0m \u001b[0;32mfrom\u001b[0m \u001b[0mtensorflow_probability\u001b[0m\u001b[0;34m.\u001b[0m\u001b[0mpython\u001b[0m\u001b[0;34m.\u001b[0m\u001b[0mbijectors\u001b[0m\u001b[0;34m.\u001b[0m\u001b[0maffine_linear_operator\u001b[0m \u001b[0;32mimport\u001b[0m \u001b[0mAffineLinearOperator\u001b[0m\u001b[0;34m\u001b[0m\u001b[0;34m\u001b[0m\u001b[0m\n",
      "\u001b[0;32m~/RansVirtualEnvs/Main3.5/lib/python3.6/site-packages/tensorflow_probability/python/bijectors/absolute_value.py\u001b[0m in \u001b[0;36m<module>\u001b[0;34m\u001b[0m\n\u001b[1;32m     21\u001b[0m \u001b[0;32mimport\u001b[0m \u001b[0mtensorflow\u001b[0m\u001b[0;34m.\u001b[0m\u001b[0mcompat\u001b[0m\u001b[0;34m.\u001b[0m\u001b[0mv2\u001b[0m \u001b[0;32mas\u001b[0m \u001b[0mtf\u001b[0m\u001b[0;34m\u001b[0m\u001b[0;34m\u001b[0m\u001b[0m\n\u001b[1;32m     22\u001b[0m \u001b[0;34m\u001b[0m\u001b[0m\n\u001b[0;32m---> 23\u001b[0;31m \u001b[0;32mfrom\u001b[0m \u001b[0mtensorflow_probability\u001b[0m\u001b[0;34m.\u001b[0m\u001b[0mpython\u001b[0m\u001b[0;34m.\u001b[0m\u001b[0mbijectors\u001b[0m \u001b[0;32mimport\u001b[0m \u001b[0mbijector\u001b[0m\u001b[0;34m\u001b[0m\u001b[0;34m\u001b[0m\u001b[0m\n\u001b[0m\u001b[1;32m     24\u001b[0m \u001b[0;32mfrom\u001b[0m \u001b[0mtensorflow_probability\u001b[0m\u001b[0;34m.\u001b[0m\u001b[0mpython\u001b[0m\u001b[0;34m.\u001b[0m\u001b[0minternal\u001b[0m \u001b[0;32mimport\u001b[0m \u001b[0massert_util\u001b[0m\u001b[0;34m\u001b[0m\u001b[0;34m\u001b[0m\u001b[0m\n\u001b[1;32m     25\u001b[0m \u001b[0;32mfrom\u001b[0m \u001b[0mtensorflow_probability\u001b[0m\u001b[0;34m.\u001b[0m\u001b[0mpython\u001b[0m\u001b[0;34m.\u001b[0m\u001b[0minternal\u001b[0m \u001b[0;32mimport\u001b[0m \u001b[0mauto_composite_tensor\u001b[0m\u001b[0;34m\u001b[0m\u001b[0;34m\u001b[0m\u001b[0m\n",
      "\u001b[0;32m~/RansVirtualEnvs/Main3.5/lib/python3.6/site-packages/tensorflow_probability/python/bijectors/bijector.py\u001b[0m in \u001b[0;36m<module>\u001b[0;34m\u001b[0m\n\u001b[1;32m     34\u001b[0m \u001b[0;32mfrom\u001b[0m \u001b[0mtensorflow_probability\u001b[0m\u001b[0;34m.\u001b[0m\u001b[0mpython\u001b[0m\u001b[0;34m.\u001b[0m\u001b[0minternal\u001b[0m \u001b[0;32mimport\u001b[0m \u001b[0mnest_util\u001b[0m\u001b[0;34m\u001b[0m\u001b[0;34m\u001b[0m\u001b[0m\n\u001b[1;32m     35\u001b[0m \u001b[0;32mfrom\u001b[0m \u001b[0mtensorflow_probability\u001b[0m\u001b[0;34m.\u001b[0m\u001b[0mpython\u001b[0m\u001b[0;34m.\u001b[0m\u001b[0minternal\u001b[0m \u001b[0;32mimport\u001b[0m \u001b[0mprefer_static\u001b[0m \u001b[0;32mas\u001b[0m \u001b[0mps\u001b[0m\u001b[0;34m\u001b[0m\u001b[0;34m\u001b[0m\u001b[0m\n\u001b[0;32m---> 36\u001b[0;31m \u001b[0;32mfrom\u001b[0m \u001b[0mtensorflow_probability\u001b[0m\u001b[0;34m.\u001b[0m\u001b[0mpython\u001b[0m\u001b[0;34m.\u001b[0m\u001b[0mmath\u001b[0m \u001b[0;32mimport\u001b[0m \u001b[0mgradient\u001b[0m\u001b[0;34m\u001b[0m\u001b[0;34m\u001b[0m\u001b[0m\n\u001b[0m\u001b[1;32m     37\u001b[0m \u001b[0;31m# pylint: disable=g-direct-tensorflow-import\u001b[0m\u001b[0;34m\u001b[0m\u001b[0;34m\u001b[0m\u001b[0;34m\u001b[0m\u001b[0m\n\u001b[1;32m     38\u001b[0m \u001b[0;32mfrom\u001b[0m \u001b[0mtensorflow\u001b[0m\u001b[0;34m.\u001b[0m\u001b[0mpython\u001b[0m\u001b[0;34m.\u001b[0m\u001b[0mutil\u001b[0m \u001b[0;32mimport\u001b[0m \u001b[0mdeprecation\u001b[0m\u001b[0;34m\u001b[0m\u001b[0;34m\u001b[0m\u001b[0m\n",
      "\u001b[0;32m~/RansVirtualEnvs/Main3.5/lib/python3.6/site-packages/tensorflow_probability/python/math/__init__.py\u001b[0m in \u001b[0;36m<module>\u001b[0;34m\u001b[0m\n\u001b[1;32m     21\u001b[0m \u001b[0;32mfrom\u001b[0m \u001b[0mtensorflow_probability\u001b[0m\u001b[0;34m.\u001b[0m\u001b[0mpython\u001b[0m\u001b[0;34m.\u001b[0m\u001b[0minternal\u001b[0m \u001b[0;32mimport\u001b[0m \u001b[0mall_util\u001b[0m\u001b[0;34m\u001b[0m\u001b[0;34m\u001b[0m\u001b[0m\n\u001b[1;32m     22\u001b[0m \u001b[0;32mfrom\u001b[0m \u001b[0mtensorflow_probability\u001b[0m\u001b[0;34m.\u001b[0m\u001b[0mpython\u001b[0m\u001b[0;34m.\u001b[0m\u001b[0mmath\u001b[0m \u001b[0;32mimport\u001b[0m \u001b[0mode\u001b[0m\u001b[0;34m\u001b[0m\u001b[0;34m\u001b[0m\u001b[0m\n\u001b[0;32m---> 23\u001b[0;31m \u001b[0;32mfrom\u001b[0m \u001b[0mtensorflow_probability\u001b[0m\u001b[0;34m.\u001b[0m\u001b[0mpython\u001b[0m\u001b[0;34m.\u001b[0m\u001b[0mmath\u001b[0m \u001b[0;32mimport\u001b[0m \u001b[0mpsd_kernels\u001b[0m\u001b[0;34m\u001b[0m\u001b[0;34m\u001b[0m\u001b[0m\n\u001b[0m\u001b[1;32m     24\u001b[0m \u001b[0;32mfrom\u001b[0m \u001b[0mtensorflow_probability\u001b[0m\u001b[0;34m.\u001b[0m\u001b[0mpython\u001b[0m\u001b[0;34m.\u001b[0m\u001b[0mmath\u001b[0m\u001b[0;34m.\u001b[0m\u001b[0mbessel\u001b[0m \u001b[0;32mimport\u001b[0m \u001b[0mbessel_iv_ratio\u001b[0m\u001b[0;34m\u001b[0m\u001b[0;34m\u001b[0m\u001b[0m\n\u001b[1;32m     25\u001b[0m \u001b[0;32mfrom\u001b[0m \u001b[0mtensorflow_probability\u001b[0m\u001b[0;34m.\u001b[0m\u001b[0mpython\u001b[0m\u001b[0;34m.\u001b[0m\u001b[0mmath\u001b[0m\u001b[0;34m.\u001b[0m\u001b[0mbessel\u001b[0m \u001b[0;32mimport\u001b[0m \u001b[0mbessel_ive\u001b[0m\u001b[0;34m\u001b[0m\u001b[0;34m\u001b[0m\u001b[0m\n",
      "\u001b[0;32m~/RansVirtualEnvs/Main3.5/lib/python3.6/site-packages/tensorflow_probability/python/math/psd_kernels/__init__.py\u001b[0m in \u001b[0;36m<module>\u001b[0;34m\u001b[0m\n\u001b[1;32m     25\u001b[0m \u001b[0;32mfrom\u001b[0m \u001b[0mtensorflow_probability\u001b[0m\u001b[0;34m.\u001b[0m\u001b[0mpython\u001b[0m\u001b[0;34m.\u001b[0m\u001b[0mmath\u001b[0m\u001b[0;34m.\u001b[0m\u001b[0mpsd_kernels\u001b[0m\u001b[0;34m.\u001b[0m\u001b[0mfeature_transformed\u001b[0m \u001b[0;32mimport\u001b[0m \u001b[0mFeatureTransformed\u001b[0m\u001b[0;34m\u001b[0m\u001b[0;34m\u001b[0m\u001b[0m\n\u001b[1;32m     26\u001b[0m \u001b[0;32mfrom\u001b[0m \u001b[0mtensorflow_probability\u001b[0m\u001b[0;34m.\u001b[0m\u001b[0mpython\u001b[0m\u001b[0;34m.\u001b[0m\u001b[0mmath\u001b[0m\u001b[0;34m.\u001b[0m\u001b[0mpsd_kernels\u001b[0m\u001b[0;34m.\u001b[0m\u001b[0mkumaraswamy_transformed\u001b[0m \u001b[0;32mimport\u001b[0m \u001b[0mKumaraswamyTransformed\u001b[0m\u001b[0;34m\u001b[0m\u001b[0;34m\u001b[0m\u001b[0m\n\u001b[0;32m---> 27\u001b[0;31m \u001b[0;32mfrom\u001b[0m \u001b[0mtensorflow_probability\u001b[0m\u001b[0;34m.\u001b[0m\u001b[0mpython\u001b[0m\u001b[0;34m.\u001b[0m\u001b[0mmath\u001b[0m\u001b[0;34m.\u001b[0m\u001b[0mpsd_kernels\u001b[0m\u001b[0;34m.\u001b[0m\u001b[0mmatern\u001b[0m \u001b[0;32mimport\u001b[0m \u001b[0mGeneralizedMatern\u001b[0m\u001b[0;34m\u001b[0m\u001b[0;34m\u001b[0m\u001b[0m\n\u001b[0m\u001b[1;32m     28\u001b[0m \u001b[0;32mfrom\u001b[0m \u001b[0mtensorflow_probability\u001b[0m\u001b[0;34m.\u001b[0m\u001b[0mpython\u001b[0m\u001b[0;34m.\u001b[0m\u001b[0mmath\u001b[0m\u001b[0;34m.\u001b[0m\u001b[0mpsd_kernels\u001b[0m\u001b[0;34m.\u001b[0m\u001b[0mmatern\u001b[0m \u001b[0;32mimport\u001b[0m \u001b[0mMaternFiveHalves\u001b[0m\u001b[0;34m\u001b[0m\u001b[0;34m\u001b[0m\u001b[0m\n\u001b[1;32m     29\u001b[0m \u001b[0;32mfrom\u001b[0m \u001b[0mtensorflow_probability\u001b[0m\u001b[0;34m.\u001b[0m\u001b[0mpython\u001b[0m\u001b[0;34m.\u001b[0m\u001b[0mmath\u001b[0m\u001b[0;34m.\u001b[0m\u001b[0mpsd_kernels\u001b[0m\u001b[0;34m.\u001b[0m\u001b[0mmatern\u001b[0m \u001b[0;32mimport\u001b[0m \u001b[0mMaternOneHalf\u001b[0m\u001b[0;34m\u001b[0m\u001b[0;34m\u001b[0m\u001b[0m\n",
      "\u001b[0;32m~/RansVirtualEnvs/Main3.5/lib/python3.6/site-packages/tensorflow_probability/python/math/psd_kernels/matern.py\u001b[0m in \u001b[0;36m<module>\u001b[0;34m\u001b[0m\n\u001b[1;32m     25\u001b[0m \u001b[0;32mfrom\u001b[0m \u001b[0mtensorflow_probability\u001b[0m\u001b[0;34m.\u001b[0m\u001b[0mpython\u001b[0m\u001b[0;34m.\u001b[0m\u001b[0minternal\u001b[0m \u001b[0;32mimport\u001b[0m \u001b[0mdtype_util\u001b[0m\u001b[0;34m\u001b[0m\u001b[0;34m\u001b[0m\u001b[0m\n\u001b[1;32m     26\u001b[0m \u001b[0;32mfrom\u001b[0m \u001b[0mtensorflow_probability\u001b[0m\u001b[0;34m.\u001b[0m\u001b[0mpython\u001b[0m\u001b[0;34m.\u001b[0m\u001b[0minternal\u001b[0m \u001b[0;32mimport\u001b[0m \u001b[0mtensor_util\u001b[0m\u001b[0;34m\u001b[0m\u001b[0;34m\u001b[0m\u001b[0m\n\u001b[0;32m---> 27\u001b[0;31m \u001b[0;32mfrom\u001b[0m \u001b[0mtensorflow_probability\u001b[0m\u001b[0;34m.\u001b[0m\u001b[0mpython\u001b[0m\u001b[0;34m.\u001b[0m\u001b[0mmath\u001b[0m \u001b[0;32mimport\u001b[0m \u001b[0mbessel\u001b[0m \u001b[0;32mas\u001b[0m \u001b[0mtfp_math\u001b[0m\u001b[0;34m\u001b[0m\u001b[0;34m\u001b[0m\u001b[0m\n\u001b[0m\u001b[1;32m     28\u001b[0m \u001b[0;32mfrom\u001b[0m \u001b[0mtensorflow_probability\u001b[0m\u001b[0;34m.\u001b[0m\u001b[0mpython\u001b[0m\u001b[0;34m.\u001b[0m\u001b[0mmath\u001b[0m\u001b[0;34m.\u001b[0m\u001b[0mpsd_kernels\u001b[0m\u001b[0;34m.\u001b[0m\u001b[0minternal\u001b[0m \u001b[0;32mimport\u001b[0m \u001b[0mutil\u001b[0m\u001b[0;34m\u001b[0m\u001b[0;34m\u001b[0m\u001b[0m\n\u001b[1;32m     29\u001b[0m \u001b[0;32mfrom\u001b[0m \u001b[0mtensorflow_probability\u001b[0m\u001b[0;34m.\u001b[0m\u001b[0mpython\u001b[0m\u001b[0;34m.\u001b[0m\u001b[0mmath\u001b[0m\u001b[0;34m.\u001b[0m\u001b[0mpsd_kernels\u001b[0m\u001b[0;34m.\u001b[0m\u001b[0mpositive_semidefinite_kernel\u001b[0m \u001b[0;32mimport\u001b[0m \u001b[0mPositiveSemidefiniteKernel\u001b[0m\u001b[0;34m\u001b[0m\u001b[0;34m\u001b[0m\u001b[0m\n",
      "\u001b[0;32m~/RansVirtualEnvs/Main3.5/lib/python3.6/site-packages/tensorflow_probability/python/math/bessel.py\u001b[0m in \u001b[0;36m<module>\u001b[0;34m\u001b[0m\n\u001b[1;32m     27\u001b[0m \u001b[0;32mfrom\u001b[0m \u001b[0mtensorflow_probability\u001b[0m\u001b[0;34m.\u001b[0m\u001b[0mpython\u001b[0m\u001b[0;34m.\u001b[0m\u001b[0minternal\u001b[0m \u001b[0;32mimport\u001b[0m \u001b[0mprefer_static\u001b[0m \u001b[0;32mas\u001b[0m \u001b[0mps\u001b[0m\u001b[0;34m\u001b[0m\u001b[0;34m\u001b[0m\u001b[0m\n\u001b[1;32m     28\u001b[0m \u001b[0;32mfrom\u001b[0m \u001b[0mtensorflow_probability\u001b[0m\u001b[0;34m.\u001b[0m\u001b[0mpython\u001b[0m\u001b[0;34m.\u001b[0m\u001b[0minternal\u001b[0m \u001b[0;32mimport\u001b[0m \u001b[0mtensorshape_util\u001b[0m\u001b[0;34m\u001b[0m\u001b[0;34m\u001b[0m\u001b[0m\n\u001b[0;32m---> 29\u001b[0;31m \u001b[0;32mfrom\u001b[0m \u001b[0mtensorflow_probability\u001b[0m\u001b[0;34m.\u001b[0m\u001b[0mpython\u001b[0m\u001b[0;34m.\u001b[0m\u001b[0mmath\u001b[0m \u001b[0;32mimport\u001b[0m \u001b[0mgeneric\u001b[0m \u001b[0;32mas\u001b[0m \u001b[0mtfp_math\u001b[0m\u001b[0;34m\u001b[0m\u001b[0;34m\u001b[0m\u001b[0m\n\u001b[0m\u001b[1;32m     30\u001b[0m \u001b[0;34m\u001b[0m\u001b[0m\n\u001b[1;32m     31\u001b[0m \u001b[0;34m\u001b[0m\u001b[0m\n",
      "\u001b[0;32m~/RansVirtualEnvs/Main3.5/lib/python3.6/site-packages/tensorflow_probability/python/math/generic.py\u001b[0m in \u001b[0;36m<module>\u001b[0;34m\u001b[0m\n\u001b[1;32m    150\u001b[0m \u001b[0;34m\u001b[0m\u001b[0m\n\u001b[1;32m    151\u001b[0m _reduce_kahan_sum = variadic_reduce.make_variadic_reduce(\n\u001b[0;32m--> 152\u001b[0;31m     _kahan_reduction, _kahan_reduce_bwd, _kahan_reduce_tangents)\n\u001b[0m\u001b[1;32m    153\u001b[0m \u001b[0;34m\u001b[0m\u001b[0m\n\u001b[1;32m    154\u001b[0m \u001b[0;34m\u001b[0m\u001b[0m\n",
      "\u001b[0;32m~/RansVirtualEnvs/Main3.5/lib/python3.6/site-packages/tensorflow_probability/python/internal/variadic_reduce.py\u001b[0m in \u001b[0;36mmake_variadic_reduce\u001b[0;34m(reducer, vjp_bwd, tangents_fn)\u001b[0m\n\u001b[1;32m    120\u001b[0m   \u001b[0;31m# Top-level `tf.function` for XLA (closed-over by the returned reduce_fn).\u001b[0m\u001b[0;34m\u001b[0m\u001b[0;34m\u001b[0m\u001b[0;34m\u001b[0m\u001b[0m\n\u001b[1;32m    121\u001b[0m   \u001b[0;34m@\u001b[0m\u001b[0mimplementation_selection\u001b[0m\u001b[0;34m.\u001b[0m\u001b[0mnever_runs_functions_eagerly\u001b[0m\u001b[0;34m\u001b[0m\u001b[0;34m\u001b[0m\u001b[0m\n\u001b[0;32m--> 122\u001b[0;31m   \u001b[0;34m@\u001b[0m\u001b[0mtf\u001b[0m\u001b[0;34m.\u001b[0m\u001b[0mfunction\u001b[0m\u001b[0;34m(\u001b[0m\u001b[0mjit_compile\u001b[0m\u001b[0;34m=\u001b[0m\u001b[0;32mTrue\u001b[0m\u001b[0;34m)\u001b[0m\u001b[0;34m\u001b[0m\u001b[0;34m\u001b[0m\u001b[0m\n\u001b[0m\u001b[1;32m    123\u001b[0m   \u001b[0;32mdef\u001b[0m \u001b[0m_xla_reduce\u001b[0m\u001b[0;34m(\u001b[0m\u001b[0moperands\u001b[0m\u001b[0;34m,\u001b[0m \u001b[0minits\u001b[0m\u001b[0;34m,\u001b[0m \u001b[0maxis\u001b[0m\u001b[0;34m)\u001b[0m\u001b[0;34m:\u001b[0m\u001b[0;34m\u001b[0m\u001b[0;34m\u001b[0m\u001b[0m\n\u001b[1;32m    124\u001b[0m     \u001b[0;34m\"\"\"JIT-ed wrapper for TF `xla.variadic_reduce(..., reducer)`.\"\"\"\u001b[0m\u001b[0;34m\u001b[0m\u001b[0;34m\u001b[0m\u001b[0m\n",
      "\u001b[0;31mTypeError\u001b[0m: function() got an unexpected keyword argument 'jit_compile'"
     ]
    }
   ],
   "source": [
    "from WUT.Variance_Network import Variance_Network\n",
    "\n",
    "regmodel = Variance_Network(RegModel)\n",
    "regmodel.compile(optimizer = tf.keras.optimizers.Adam(), loss = tf.keras.losses.MSE)\n",
    "regmodel.fit(Xreg, Yreg)\n",
    "print(regmodel.evaluate(Xreg, Yreg)) \n",
    "print(regmodel.predict(Xreg[0:5]))\n",
    "\n",
    "\n",
    "\n",
    "\n",
    "\n",
    "\n",
    "classmodel = Variance_Network(ClassModel)\n",
    "classmodel.compile(optimizer = tf.keras.optimizers.Adam(), loss = tf.keras.losses.CategoricalCrossentropy())\n",
    "classmodel.fit(Xclass, Yclass)\n",
    "print(classmodel.evaluate(Xclass, Yclass))\n",
    "print(classmodel.predict(Xclass[0:5]))\n",
    "\n",
    "\n",
    "\n",
    "\n"
   ]
  },
  {
   "cell_type": "markdown",
   "metadata": {
    "id": "3v34BjC7ErBR"
   },
   "source": [
    "Or, you could fit a gaussian mixture model to this.\n",
    "Second argument here is how many gaussians you'd like to fit.\n",
    "\n",
    "Output is now a Probability distribution in posterior space\n"
   ]
  },
  {
   "cell_type": "code",
   "execution_count": null,
   "metadata": {
    "id": "ipdtBRxyErBR",
    "outputId": "3761e051-9bf8-4688-e183-0670893ee7e9"
   },
   "outputs": [
    {
     "name": "stdout",
     "output_type": "stream",
     "text": [
      "WARNING:tensorflow:From /Users/chrishealy/anaconda3/lib/python3.7/site-packages/tensorflow/python/ops/linalg/linear_operator_diag.py:166: calling LinearOperator.__init__ (from tensorflow.python.ops.linalg.linear_operator) with graph_parents is deprecated and will be removed in a future version.\n",
      "Instructions for updating:\n",
      "Do not pass `graph_parents`.  They will  no longer be used.\n",
      "16105/16105 [==============================] - 26s 2ms/step - loss: 6.6664\n",
      "16105/16105 [==============================] - 11s 701us/step - loss: 6.2689\n",
      "6.268917560577393\n",
      "tf.Tensor(\n",
      "[[1921.5614]\n",
      " [2114.6772]\n",
      " [2088.1204]\n",
      " [2074.249 ]\n",
      " [2280.48  ]], shape=(5, 1), dtype=float32)\n",
      "1/1 [==============================] - 0s 990us/step - loss: 21114667008.0000\n",
      "21114667008.0\n",
      "tf.Tensor(\n",
      "[[  -2.8682199   440.55505      -9.252266   -122.47605     285.3768\n",
      "  -189.76274     -86.552826  ]\n",
      " [   0.63337547  485.99738    -286.06485    -224.61842    -326.705\n",
      "    44.933136     -9.93264   ]\n",
      " [   1.9110353   292.4095      -83.9474        5.6412625   163.41637\n",
      "   108.41966    -209.20148   ]\n",
      " [  -1.9658955   143.63368     -38.92147     -30.871521      7.049843\n",
      "  -156.00131    -307.8017    ]\n",
      " [   2.242136   -328.57556    -191.11871      36.756676    164.90022\n",
      "   137.1727      -38.892155  ]], shape=(5, 7), dtype=float32)\n"
     ]
    }
   ],
   "source": [
    "from WUT.Gaussian_Mixtures import Gaussian_Mixtures\n",
    "\n",
    "regmodel = Gaussian_Mixtures(RegModel, 5)\n",
    "regmodel.compile(optimizer = tf.keras.optimizers.Adam())\n",
    "regmodel.fit(Xreg, Yreg)\n",
    "print(regmodel.evaluate(Xreg, Yreg)) \n",
    "regression_dist = regmodel.predict(Xreg[0:5])\n",
    "print(regression_dist.sample())\n",
    "\n",
    "\n",
    "\n",
    "\n",
    "\n",
    "\n",
    "classmodel = Gaussian_Mixtures(ClassModel, 5)\n",
    "classmodel.compile(optimizer = tf.keras.optimizers.Adam())\n",
    "classmodel.fit(Xclass[0:5], Yclass[0:5], epochs = 1000, verbose = False)\n",
    "print(classmodel.evaluate(Xclass[0:5], Yclass[0:5]))\n",
    "classification_dist = classmodel.predict(Xclass[0:5])\n",
    "print(classification_dist.sample())\n"
   ]
  },
  {
   "cell_type": "markdown",
   "metadata": {
    "id": "J0do-WTYErBR"
   },
   "source": [
    "Lastly, if you've got a real masochistic streak, you could run Stochastic Variational Inference Here.\n",
    "\n",
    "There are a lot of optional arguments here for those who want to get into the weeds, but I'll cover a few important ones:\n",
    "\n",
    "task: set this to 'regression' or 'classification'. Defaults to regression.\n",
    "\n",
    "one_hot: If True, assumes targets are one hot in classification case. Defaults True\n",
    "\n",
    "normalize: whether to normalize inputs and outputs, defaults to True. If you encounter nans, try fiddling with this!\n",
    "\n",
    "Returns: A probability distribution over the outputs pace\n",
    "\n"
   ]
  },
  {
   "cell_type": "code",
   "execution_count": null,
   "metadata": {
    "colab": {
     "base_uri": "https://localhost:8080/",
     "height": 245
    },
    "id": "qs9DMNzjErBS",
    "outputId": "262406a7-3188-4f05-c1cf-f53149ad47cc"
   },
   "outputs": [
    {
     "ename": "NameError",
     "evalue": "ignored",
     "output_type": "error",
     "traceback": [
      "\u001b[0;31m---------------------------------------------------------------------------\u001b[0m",
      "\u001b[0;31mNameError\u001b[0m                                 Traceback (most recent call last)",
      "\u001b[0;32m<ipython-input-36-7e928ff4d0b3>\u001b[0m in \u001b[0;36m<module>\u001b[0;34m()\u001b[0m\n\u001b[1;32m      1\u001b[0m \u001b[0;32mfrom\u001b[0m \u001b[0mWUT\u001b[0m\u001b[0;34m.\u001b[0m\u001b[0mSVI\u001b[0m \u001b[0;32mimport\u001b[0m \u001b[0mSVI\u001b[0m\u001b[0;34m\u001b[0m\u001b[0;34m\u001b[0m\u001b[0m\n\u001b[1;32m      2\u001b[0m \u001b[0;34m\u001b[0m\u001b[0m\n\u001b[0;32m----> 3\u001b[0;31m \u001b[0mregmodel\u001b[0m \u001b[0;34m=\u001b[0m \u001b[0mSVI\u001b[0m\u001b[0;34m(\u001b[0m\u001b[0mRegModel\u001b[0m\u001b[0;34m)\u001b[0m\u001b[0;34m\u001b[0m\u001b[0;34m\u001b[0m\u001b[0m\n\u001b[0m\u001b[1;32m      4\u001b[0m \u001b[0mregmodel\u001b[0m\u001b[0;34m.\u001b[0m\u001b[0mcompile\u001b[0m\u001b[0;34m(\u001b[0m\u001b[0moptimizer\u001b[0m \u001b[0;34m=\u001b[0m \u001b[0mtf\u001b[0m\u001b[0;34m.\u001b[0m\u001b[0mkeras\u001b[0m\u001b[0;34m.\u001b[0m\u001b[0moptimizers\u001b[0m\u001b[0;34m.\u001b[0m\u001b[0mAdam\u001b[0m\u001b[0;34m(\u001b[0m\u001b[0mlr\u001b[0m\u001b[0;34m=\u001b[0m\u001b[0;36m0.001\u001b[0m\u001b[0;34m)\u001b[0m\u001b[0;34m)\u001b[0m\u001b[0;34m\u001b[0m\u001b[0;34m\u001b[0m\u001b[0m\n\u001b[1;32m      5\u001b[0m \u001b[0mregmodel\u001b[0m\u001b[0;34m.\u001b[0m\u001b[0mfit\u001b[0m\u001b[0;34m(\u001b[0m\u001b[0mXreg\u001b[0m\u001b[0;34m,\u001b[0m \u001b[0mYreg\u001b[0m\u001b[0;34m)\u001b[0m\u001b[0;34m\u001b[0m\u001b[0;34m\u001b[0m\u001b[0m\n",
      "\u001b[0;31mNameError\u001b[0m: name 'RegModel' is not defined"
     ]
    }
   ],
   "source": [
    "from WUT.SVI import SVI\n",
    "\n",
    "regmodel = SVI(RegModel)\n",
    "regmodel.compile(optimizer = tf.keras.optimizers.Adam(lr=0.001))\n",
    "regmodel.fit(Xreg, Yreg)\n",
    "print(regmodel.evaluate(Xreg, Yreg)) \n",
    "regression_dist = regmodel.predict(Xreg[0:5])\n",
    "print(regression_dist.sample())\n",
    "\n",
    "\n",
    "\n",
    "\n",
    "\n",
    "\n",
    "classmodel = SVI(ClassModel, task = 'classification', one_hot = True)\n",
    "classmodel.compile(optimizer = tf.keras.optimizers.Adam())\n",
    "classmodel.fit(Xclass, Yclass)\n",
    "print(classmodel.evaluate(Xclass, Yclass))\n",
    "classification_dist = classmodel.predict(Xclass[0:5])\n",
    "print(classification_dist.sample())\n",
    "\n"
   ]
  },
  {
   "cell_type": "code",
   "execution_count": null,
   "metadata": {
    "id": "cIeX-Y0bErBS"
   },
   "outputs": [],
   "source": []
  }
 ],
 "metadata": {
  "@webio": {
   "lastCommId": null,
   "lastKernelId": null
  },
  "colab": {
   "name": "WUT_Guide.ipynb",
   "provenance": [],
   "toc_visible": true
  },
  "kernelspec": {
   "display_name": "Python 3",
   "language": "python",
   "name": "python3"
  },
  "language_info": {
   "codemirror_mode": {
    "name": "ipython",
    "version": 3
   },
   "file_extension": ".py",
   "mimetype": "text/x-python",
   "name": "python",
   "nbconvert_exporter": "python",
   "pygments_lexer": "ipython3",
   "version": "3.7.1"
  }
 },
 "nbformat": 4,
 "nbformat_minor": 4
}
